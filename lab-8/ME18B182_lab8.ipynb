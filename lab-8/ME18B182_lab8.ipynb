{
  "nbformat": 4,
  "nbformat_minor": 0,
  "metadata": {
    "colab": {
      "name": "ME18B182-lab8.ipynb",
      "provenance": [],
      "collapsed_sections": [],
      "include_colab_link": true
    },
    "kernelspec": {
      "name": "python3",
      "display_name": "Python 3"
    },
    "widgets": {
      "application/vnd.jupyter.widget-state+json": {
        "f9643ed1d8e545f6a9eb6844c5314557": {
          "model_module": "@jupyter-widgets/controls",
          "model_name": "HBoxModel",
          "model_module_version": "1.5.0",
          "state": {
            "_dom_classes": [],
            "_model_module": "@jupyter-widgets/controls",
            "_model_module_version": "1.5.0",
            "_model_name": "HBoxModel",
            "_view_count": null,
            "_view_module": "@jupyter-widgets/controls",
            "_view_module_version": "1.5.0",
            "_view_name": "HBoxView",
            "box_style": "",
            "children": [
              "IPY_MODEL_840089ad76ac43e1afd6892c0e94c5ec",
              "IPY_MODEL_bc0dd635a79448bbad7e6ab719f64de3",
              "IPY_MODEL_a0d07de7b71e44269a15bb7d0bb60d74"
            ],
            "layout": "IPY_MODEL_90fb1a9ca10847fa85f1f35f5965c69a"
          }
        },
        "840089ad76ac43e1afd6892c0e94c5ec": {
          "model_module": "@jupyter-widgets/controls",
          "model_name": "HTMLModel",
          "model_module_version": "1.5.0",
          "state": {
            "_dom_classes": [],
            "_model_module": "@jupyter-widgets/controls",
            "_model_module_version": "1.5.0",
            "_model_name": "HTMLModel",
            "_view_count": null,
            "_view_module": "@jupyter-widgets/controls",
            "_view_module_version": "1.5.0",
            "_view_name": "HTMLView",
            "description": "",
            "description_tooltip": null,
            "layout": "IPY_MODEL_0e577afaba8d4e6a9b203448e22ecfdd",
            "placeholder": "​",
            "style": "IPY_MODEL_9d9ebfbecad74bde82b9678da9b1d153",
            "value": "100%"
          }
        },
        "bc0dd635a79448bbad7e6ab719f64de3": {
          "model_module": "@jupyter-widgets/controls",
          "model_name": "FloatProgressModel",
          "model_module_version": "1.5.0",
          "state": {
            "_dom_classes": [],
            "_model_module": "@jupyter-widgets/controls",
            "_model_module_version": "1.5.0",
            "_model_name": "FloatProgressModel",
            "_view_count": null,
            "_view_module": "@jupyter-widgets/controls",
            "_view_module_version": "1.5.0",
            "_view_name": "ProgressView",
            "bar_style": "success",
            "description": "",
            "description_tooltip": null,
            "layout": "IPY_MODEL_b72cc62ec0334d3eb0d24b193e87e6e7",
            "max": 50000,
            "min": 0,
            "orientation": "horizontal",
            "style": "IPY_MODEL_d451b27c61d5478c87c9f2a033577932",
            "value": 50000
          }
        },
        "a0d07de7b71e44269a15bb7d0bb60d74": {
          "model_module": "@jupyter-widgets/controls",
          "model_name": "HTMLModel",
          "model_module_version": "1.5.0",
          "state": {
            "_dom_classes": [],
            "_model_module": "@jupyter-widgets/controls",
            "_model_module_version": "1.5.0",
            "_model_name": "HTMLModel",
            "_view_count": null,
            "_view_module": "@jupyter-widgets/controls",
            "_view_module_version": "1.5.0",
            "_view_name": "HTMLView",
            "description": "",
            "description_tooltip": null,
            "layout": "IPY_MODEL_466cddbeff524262a26b65bc4ab855ab",
            "placeholder": "​",
            "style": "IPY_MODEL_db7ac49e852c4c5a8cf93e2ac12cbbd4",
            "value": " 50000/50000 [00:15&lt;00:00, 3487.82it/s]"
          }
        },
        "90fb1a9ca10847fa85f1f35f5965c69a": {
          "model_module": "@jupyter-widgets/base",
          "model_name": "LayoutModel",
          "model_module_version": "1.2.0",
          "state": {
            "_model_module": "@jupyter-widgets/base",
            "_model_module_version": "1.2.0",
            "_model_name": "LayoutModel",
            "_view_count": null,
            "_view_module": "@jupyter-widgets/base",
            "_view_module_version": "1.2.0",
            "_view_name": "LayoutView",
            "align_content": null,
            "align_items": null,
            "align_self": null,
            "border": null,
            "bottom": null,
            "display": null,
            "flex": null,
            "flex_flow": null,
            "grid_area": null,
            "grid_auto_columns": null,
            "grid_auto_flow": null,
            "grid_auto_rows": null,
            "grid_column": null,
            "grid_gap": null,
            "grid_row": null,
            "grid_template_areas": null,
            "grid_template_columns": null,
            "grid_template_rows": null,
            "height": null,
            "justify_content": null,
            "justify_items": null,
            "left": null,
            "margin": null,
            "max_height": null,
            "max_width": null,
            "min_height": null,
            "min_width": null,
            "object_fit": null,
            "object_position": null,
            "order": null,
            "overflow": null,
            "overflow_x": null,
            "overflow_y": null,
            "padding": null,
            "right": null,
            "top": null,
            "visibility": null,
            "width": null
          }
        },
        "0e577afaba8d4e6a9b203448e22ecfdd": {
          "model_module": "@jupyter-widgets/base",
          "model_name": "LayoutModel",
          "model_module_version": "1.2.0",
          "state": {
            "_model_module": "@jupyter-widgets/base",
            "_model_module_version": "1.2.0",
            "_model_name": "LayoutModel",
            "_view_count": null,
            "_view_module": "@jupyter-widgets/base",
            "_view_module_version": "1.2.0",
            "_view_name": "LayoutView",
            "align_content": null,
            "align_items": null,
            "align_self": null,
            "border": null,
            "bottom": null,
            "display": null,
            "flex": null,
            "flex_flow": null,
            "grid_area": null,
            "grid_auto_columns": null,
            "grid_auto_flow": null,
            "grid_auto_rows": null,
            "grid_column": null,
            "grid_gap": null,
            "grid_row": null,
            "grid_template_areas": null,
            "grid_template_columns": null,
            "grid_template_rows": null,
            "height": null,
            "justify_content": null,
            "justify_items": null,
            "left": null,
            "margin": null,
            "max_height": null,
            "max_width": null,
            "min_height": null,
            "min_width": null,
            "object_fit": null,
            "object_position": null,
            "order": null,
            "overflow": null,
            "overflow_x": null,
            "overflow_y": null,
            "padding": null,
            "right": null,
            "top": null,
            "visibility": null,
            "width": null
          }
        },
        "9d9ebfbecad74bde82b9678da9b1d153": {
          "model_module": "@jupyter-widgets/controls",
          "model_name": "DescriptionStyleModel",
          "model_module_version": "1.5.0",
          "state": {
            "_model_module": "@jupyter-widgets/controls",
            "_model_module_version": "1.5.0",
            "_model_name": "DescriptionStyleModel",
            "_view_count": null,
            "_view_module": "@jupyter-widgets/base",
            "_view_module_version": "1.2.0",
            "_view_name": "StyleView",
            "description_width": ""
          }
        },
        "b72cc62ec0334d3eb0d24b193e87e6e7": {
          "model_module": "@jupyter-widgets/base",
          "model_name": "LayoutModel",
          "model_module_version": "1.2.0",
          "state": {
            "_model_module": "@jupyter-widgets/base",
            "_model_module_version": "1.2.0",
            "_model_name": "LayoutModel",
            "_view_count": null,
            "_view_module": "@jupyter-widgets/base",
            "_view_module_version": "1.2.0",
            "_view_name": "LayoutView",
            "align_content": null,
            "align_items": null,
            "align_self": null,
            "border": null,
            "bottom": null,
            "display": null,
            "flex": null,
            "flex_flow": null,
            "grid_area": null,
            "grid_auto_columns": null,
            "grid_auto_flow": null,
            "grid_auto_rows": null,
            "grid_column": null,
            "grid_gap": null,
            "grid_row": null,
            "grid_template_areas": null,
            "grid_template_columns": null,
            "grid_template_rows": null,
            "height": null,
            "justify_content": null,
            "justify_items": null,
            "left": null,
            "margin": null,
            "max_height": null,
            "max_width": null,
            "min_height": null,
            "min_width": null,
            "object_fit": null,
            "object_position": null,
            "order": null,
            "overflow": null,
            "overflow_x": null,
            "overflow_y": null,
            "padding": null,
            "right": null,
            "top": null,
            "visibility": null,
            "width": null
          }
        },
        "d451b27c61d5478c87c9f2a033577932": {
          "model_module": "@jupyter-widgets/controls",
          "model_name": "ProgressStyleModel",
          "model_module_version": "1.5.0",
          "state": {
            "_model_module": "@jupyter-widgets/controls",
            "_model_module_version": "1.5.0",
            "_model_name": "ProgressStyleModel",
            "_view_count": null,
            "_view_module": "@jupyter-widgets/base",
            "_view_module_version": "1.2.0",
            "_view_name": "StyleView",
            "bar_color": null,
            "description_width": ""
          }
        },
        "466cddbeff524262a26b65bc4ab855ab": {
          "model_module": "@jupyter-widgets/base",
          "model_name": "LayoutModel",
          "model_module_version": "1.2.0",
          "state": {
            "_model_module": "@jupyter-widgets/base",
            "_model_module_version": "1.2.0",
            "_model_name": "LayoutModel",
            "_view_count": null,
            "_view_module": "@jupyter-widgets/base",
            "_view_module_version": "1.2.0",
            "_view_name": "LayoutView",
            "align_content": null,
            "align_items": null,
            "align_self": null,
            "border": null,
            "bottom": null,
            "display": null,
            "flex": null,
            "flex_flow": null,
            "grid_area": null,
            "grid_auto_columns": null,
            "grid_auto_flow": null,
            "grid_auto_rows": null,
            "grid_column": null,
            "grid_gap": null,
            "grid_row": null,
            "grid_template_areas": null,
            "grid_template_columns": null,
            "grid_template_rows": null,
            "height": null,
            "justify_content": null,
            "justify_items": null,
            "left": null,
            "margin": null,
            "max_height": null,
            "max_width": null,
            "min_height": null,
            "min_width": null,
            "object_fit": null,
            "object_position": null,
            "order": null,
            "overflow": null,
            "overflow_x": null,
            "overflow_y": null,
            "padding": null,
            "right": null,
            "top": null,
            "visibility": null,
            "width": null
          }
        },
        "db7ac49e852c4c5a8cf93e2ac12cbbd4": {
          "model_module": "@jupyter-widgets/controls",
          "model_name": "DescriptionStyleModel",
          "model_module_version": "1.5.0",
          "state": {
            "_model_module": "@jupyter-widgets/controls",
            "_model_module_version": "1.5.0",
            "_model_name": "DescriptionStyleModel",
            "_view_count": null,
            "_view_module": "@jupyter-widgets/base",
            "_view_module_version": "1.2.0",
            "_view_name": "StyleView",
            "description_width": ""
          }
        },
        "fe1b21d397874e4095a90d5825c17394": {
          "model_module": "@jupyter-widgets/controls",
          "model_name": "HBoxModel",
          "model_module_version": "1.5.0",
          "state": {
            "_dom_classes": [],
            "_model_module": "@jupyter-widgets/controls",
            "_model_module_version": "1.5.0",
            "_model_name": "HBoxModel",
            "_view_count": null,
            "_view_module": "@jupyter-widgets/controls",
            "_view_module_version": "1.5.0",
            "_view_name": "HBoxView",
            "box_style": "",
            "children": [
              "IPY_MODEL_83faa162d01240a4b413676b4057c862",
              "IPY_MODEL_d47d0b3bc6ba4d39ae0491a557f2dcb8",
              "IPY_MODEL_1df612c2e4f34eb89cf8c3e077a33bca"
            ],
            "layout": "IPY_MODEL_952a1868f1f14cc499040c3eba356499"
          }
        },
        "83faa162d01240a4b413676b4057c862": {
          "model_module": "@jupyter-widgets/controls",
          "model_name": "HTMLModel",
          "model_module_version": "1.5.0",
          "state": {
            "_dom_classes": [],
            "_model_module": "@jupyter-widgets/controls",
            "_model_module_version": "1.5.0",
            "_model_name": "HTMLModel",
            "_view_count": null,
            "_view_module": "@jupyter-widgets/controls",
            "_view_module_version": "1.5.0",
            "_view_name": "HTMLView",
            "description": "",
            "description_tooltip": null,
            "layout": "IPY_MODEL_33c18ef2a6ca4e8d86e0be6f51abed46",
            "placeholder": "​",
            "style": "IPY_MODEL_8b7efebc58fb4b3faa3eec684c86610e",
            "value": "100%"
          }
        },
        "d47d0b3bc6ba4d39ae0491a557f2dcb8": {
          "model_module": "@jupyter-widgets/controls",
          "model_name": "FloatProgressModel",
          "model_module_version": "1.5.0",
          "state": {
            "_dom_classes": [],
            "_model_module": "@jupyter-widgets/controls",
            "_model_module_version": "1.5.0",
            "_model_name": "FloatProgressModel",
            "_view_count": null,
            "_view_module": "@jupyter-widgets/controls",
            "_view_module_version": "1.5.0",
            "_view_name": "ProgressView",
            "bar_style": "success",
            "description": "",
            "description_tooltip": null,
            "layout": "IPY_MODEL_1f68698fa7754050a4baca5cd2b74f45",
            "max": 10000,
            "min": 0,
            "orientation": "horizontal",
            "style": "IPY_MODEL_82c472e421d743f2a2ce437c65c4f87a",
            "value": 10000
          }
        },
        "1df612c2e4f34eb89cf8c3e077a33bca": {
          "model_module": "@jupyter-widgets/controls",
          "model_name": "HTMLModel",
          "model_module_version": "1.5.0",
          "state": {
            "_dom_classes": [],
            "_model_module": "@jupyter-widgets/controls",
            "_model_module_version": "1.5.0",
            "_model_name": "HTMLModel",
            "_view_count": null,
            "_view_module": "@jupyter-widgets/controls",
            "_view_module_version": "1.5.0",
            "_view_name": "HTMLView",
            "description": "",
            "description_tooltip": null,
            "layout": "IPY_MODEL_05af9615902d4876b52619be1ca468e9",
            "placeholder": "​",
            "style": "IPY_MODEL_9872ca3542a74edeb4c00e9a8da4ab28",
            "value": " 10000/10000 [00:03&lt;00:00, 3210.56it/s]"
          }
        },
        "952a1868f1f14cc499040c3eba356499": {
          "model_module": "@jupyter-widgets/base",
          "model_name": "LayoutModel",
          "model_module_version": "1.2.0",
          "state": {
            "_model_module": "@jupyter-widgets/base",
            "_model_module_version": "1.2.0",
            "_model_name": "LayoutModel",
            "_view_count": null,
            "_view_module": "@jupyter-widgets/base",
            "_view_module_version": "1.2.0",
            "_view_name": "LayoutView",
            "align_content": null,
            "align_items": null,
            "align_self": null,
            "border": null,
            "bottom": null,
            "display": null,
            "flex": null,
            "flex_flow": null,
            "grid_area": null,
            "grid_auto_columns": null,
            "grid_auto_flow": null,
            "grid_auto_rows": null,
            "grid_column": null,
            "grid_gap": null,
            "grid_row": null,
            "grid_template_areas": null,
            "grid_template_columns": null,
            "grid_template_rows": null,
            "height": null,
            "justify_content": null,
            "justify_items": null,
            "left": null,
            "margin": null,
            "max_height": null,
            "max_width": null,
            "min_height": null,
            "min_width": null,
            "object_fit": null,
            "object_position": null,
            "order": null,
            "overflow": null,
            "overflow_x": null,
            "overflow_y": null,
            "padding": null,
            "right": null,
            "top": null,
            "visibility": null,
            "width": null
          }
        },
        "33c18ef2a6ca4e8d86e0be6f51abed46": {
          "model_module": "@jupyter-widgets/base",
          "model_name": "LayoutModel",
          "model_module_version": "1.2.0",
          "state": {
            "_model_module": "@jupyter-widgets/base",
            "_model_module_version": "1.2.0",
            "_model_name": "LayoutModel",
            "_view_count": null,
            "_view_module": "@jupyter-widgets/base",
            "_view_module_version": "1.2.0",
            "_view_name": "LayoutView",
            "align_content": null,
            "align_items": null,
            "align_self": null,
            "border": null,
            "bottom": null,
            "display": null,
            "flex": null,
            "flex_flow": null,
            "grid_area": null,
            "grid_auto_columns": null,
            "grid_auto_flow": null,
            "grid_auto_rows": null,
            "grid_column": null,
            "grid_gap": null,
            "grid_row": null,
            "grid_template_areas": null,
            "grid_template_columns": null,
            "grid_template_rows": null,
            "height": null,
            "justify_content": null,
            "justify_items": null,
            "left": null,
            "margin": null,
            "max_height": null,
            "max_width": null,
            "min_height": null,
            "min_width": null,
            "object_fit": null,
            "object_position": null,
            "order": null,
            "overflow": null,
            "overflow_x": null,
            "overflow_y": null,
            "padding": null,
            "right": null,
            "top": null,
            "visibility": null,
            "width": null
          }
        },
        "8b7efebc58fb4b3faa3eec684c86610e": {
          "model_module": "@jupyter-widgets/controls",
          "model_name": "DescriptionStyleModel",
          "model_module_version": "1.5.0",
          "state": {
            "_model_module": "@jupyter-widgets/controls",
            "_model_module_version": "1.5.0",
            "_model_name": "DescriptionStyleModel",
            "_view_count": null,
            "_view_module": "@jupyter-widgets/base",
            "_view_module_version": "1.2.0",
            "_view_name": "StyleView",
            "description_width": ""
          }
        },
        "1f68698fa7754050a4baca5cd2b74f45": {
          "model_module": "@jupyter-widgets/base",
          "model_name": "LayoutModel",
          "model_module_version": "1.2.0",
          "state": {
            "_model_module": "@jupyter-widgets/base",
            "_model_module_version": "1.2.0",
            "_model_name": "LayoutModel",
            "_view_count": null,
            "_view_module": "@jupyter-widgets/base",
            "_view_module_version": "1.2.0",
            "_view_name": "LayoutView",
            "align_content": null,
            "align_items": null,
            "align_self": null,
            "border": null,
            "bottom": null,
            "display": null,
            "flex": null,
            "flex_flow": null,
            "grid_area": null,
            "grid_auto_columns": null,
            "grid_auto_flow": null,
            "grid_auto_rows": null,
            "grid_column": null,
            "grid_gap": null,
            "grid_row": null,
            "grid_template_areas": null,
            "grid_template_columns": null,
            "grid_template_rows": null,
            "height": null,
            "justify_content": null,
            "justify_items": null,
            "left": null,
            "margin": null,
            "max_height": null,
            "max_width": null,
            "min_height": null,
            "min_width": null,
            "object_fit": null,
            "object_position": null,
            "order": null,
            "overflow": null,
            "overflow_x": null,
            "overflow_y": null,
            "padding": null,
            "right": null,
            "top": null,
            "visibility": null,
            "width": null
          }
        },
        "82c472e421d743f2a2ce437c65c4f87a": {
          "model_module": "@jupyter-widgets/controls",
          "model_name": "ProgressStyleModel",
          "model_module_version": "1.5.0",
          "state": {
            "_model_module": "@jupyter-widgets/controls",
            "_model_module_version": "1.5.0",
            "_model_name": "ProgressStyleModel",
            "_view_count": null,
            "_view_module": "@jupyter-widgets/base",
            "_view_module_version": "1.2.0",
            "_view_name": "StyleView",
            "bar_color": null,
            "description_width": ""
          }
        },
        "05af9615902d4876b52619be1ca468e9": {
          "model_module": "@jupyter-widgets/base",
          "model_name": "LayoutModel",
          "model_module_version": "1.2.0",
          "state": {
            "_model_module": "@jupyter-widgets/base",
            "_model_module_version": "1.2.0",
            "_model_name": "LayoutModel",
            "_view_count": null,
            "_view_module": "@jupyter-widgets/base",
            "_view_module_version": "1.2.0",
            "_view_name": "LayoutView",
            "align_content": null,
            "align_items": null,
            "align_self": null,
            "border": null,
            "bottom": null,
            "display": null,
            "flex": null,
            "flex_flow": null,
            "grid_area": null,
            "grid_auto_columns": null,
            "grid_auto_flow": null,
            "grid_auto_rows": null,
            "grid_column": null,
            "grid_gap": null,
            "grid_row": null,
            "grid_template_areas": null,
            "grid_template_columns": null,
            "grid_template_rows": null,
            "height": null,
            "justify_content": null,
            "justify_items": null,
            "left": null,
            "margin": null,
            "max_height": null,
            "max_width": null,
            "min_height": null,
            "min_width": null,
            "object_fit": null,
            "object_position": null,
            "order": null,
            "overflow": null,
            "overflow_x": null,
            "overflow_y": null,
            "padding": null,
            "right": null,
            "top": null,
            "visibility": null,
            "width": null
          }
        },
        "9872ca3542a74edeb4c00e9a8da4ab28": {
          "model_module": "@jupyter-widgets/controls",
          "model_name": "DescriptionStyleModel",
          "model_module_version": "1.5.0",
          "state": {
            "_model_module": "@jupyter-widgets/controls",
            "_model_module_version": "1.5.0",
            "_model_name": "DescriptionStyleModel",
            "_view_count": null,
            "_view_module": "@jupyter-widgets/base",
            "_view_module_version": "1.2.0",
            "_view_name": "StyleView",
            "description_width": ""
          }
        }
      }
    }
  },
  "cells": [
    {
      "cell_type": "markdown",
      "metadata": {
        "id": "view-in-github",
        "colab_type": "text"
      },
      "source": [
        "<a href=\"https://colab.research.google.com/github/vasudevgupta7/cs4830-assignments/blob/main/lab-8/ME18B182_lab8.ipynb\" target=\"_parent\"><img src=\"https://colab.research.google.com/assets/colab-badge.svg\" alt=\"Open In Colab\"/></a>"
      ]
    },
    {
      "cell_type": "markdown",
      "source": [
        "Install Dependencies and Import Required Packages"
      ],
      "metadata": {
        "id": "GbsxSSWua3qB"
      }
    },
    {
      "cell_type": "code",
      "metadata": {
        "id": "dz907NVoTcok"
      },
      "source": [
        "%%capture\n",
        "\n",
        "# !sudo add-apt-repository ppa:openjdk-r/ppa\n",
        "\n",
        "!sudo apt-get install openjdk-11-jdk\n",
        "# To Install Oracke JDK varsion 8\n",
        "# !sudo add-apt-repository ppa:webupd8team/java\n",
        "# !sudo apt-get install oracle-java8-installer"
      ],
      "execution_count": null,
      "outputs": []
    },
    {
      "cell_type": "code",
      "source": [
        "%%capture\n",
        "\n",
        "# !wget -q https://downloads.apache.org/spark/spark-3.1.1/spark-3.1.1-bin-hadoop3.2.tgz\n",
        "# !tar xvzf spark-3.1.1-bin-hadoop3.2.tgz\n",
        "!pip install pyspark\n",
        "!pip install -q findspark\n",
        "!pip install pyarrow\n",
        "try:\n",
        "  # %tensorflow_version only exists in Colab.\n",
        "  !pip install  tf-estimator-nightly==2.8.0.dev2021122109\n",
        "except Exception:\n",
        "  print(\"skipping tf-estimator-nightly==2.8.0.dev2021122109\")\n",
        "  pass"
      ],
      "metadata": {
        "id": "GHCE-bUl_5YT"
      },
      "execution_count": null,
      "outputs": []
    },
    {
      "cell_type": "code",
      "metadata": {
        "id": "PyFhdHcmFlQg"
      },
      "source": [
        "import os\n",
        "os.environ[\"JAVA_HOME\"] = \"/usr/lib/jvm/java-11-openjdk-amd64\"\n",
        "# os.environ[\"SPARK_HOME\"] = \"/content/spark-3.2.1\"\n"
      ],
      "execution_count": 3,
      "outputs": []
    },
    {
      "cell_type": "code",
      "metadata": {
        "id": "OVQK8VGjl_jG"
      },
      "source": [
        "from pyspark.sql.functions import col, pandas_udf, regexp_extract\n",
        "import io\n",
        "\n",
        "from tensorflow.keras.applications.imagenet_utils import decode_predictions\n",
        "import pandas as pd\n",
        "from pyspark.sql.functions import col, pandas_udf, PandasUDFType\n",
        "\n",
        "import torch\n",
        "from torch.utils.data import Dataset, DataLoader\n",
        "from torchvision import models, transforms\n",
        "from PIL import Image\n",
        "\n",
        "from __future__ import absolute_import, division, print_function, unicode_literals\n",
        "import tensorflow as tf\n",
        "import pathlib\n",
        "import findspark\n",
        "from pyspark.sql import SparkSession\n",
        "import matplotlib.pyplot as plt \n",
        "\n",
        "\n",
        "findspark.init()\n",
        "spark = SparkSession.builder.master(\"local[*]\").getOrCreate()"
      ],
      "execution_count": 4,
      "outputs": []
    },
    {
      "cell_type": "code",
      "source": [
        "%%capture\n",
        "!wget https://www.cs.toronto.edu/%7Ekriz/cifar-10-python.tar.gz\n",
        "!tar xvf cifar-10-python.tar.gz"
      ],
      "metadata": {
        "colab": {
          "base_uri": "https://localhost:8080/"
        },
        "id": "XfYe7hJkpndG",
        "outputId": "4bbc9cb2-e8fe-4464-a614-0b66c001cabb"
      },
      "execution_count": 19,
      "outputs": [
        {
          "output_type": "stream",
          "name": "stdout",
          "text": [
            "--2022-04-16 04:46:21--  https://www.cs.toronto.edu/%7Ekriz/cifar-10-python.tar.gz\n",
            "Resolving www.cs.toronto.edu (www.cs.toronto.edu)... 128.100.3.30\n",
            "Connecting to www.cs.toronto.edu (www.cs.toronto.edu)|128.100.3.30|:443... connected.\n",
            "HTTP request sent, awaiting response... 200 OK\n",
            "Length: 170498071 (163M) [application/x-gzip]\n",
            "Saving to: ‘cifar-10-python.tar.gz’\n",
            "\n",
            "cifar-10-python.tar 100%[===================>] 162.60M   101MB/s    in 1.6s    \n",
            "\n",
            "2022-04-16 04:46:23 (101 MB/s) - ‘cifar-10-python.tar.gz’ saved [170498071/170498071]\n",
            "\n",
            "cifar-10-batches-py/\n",
            "cifar-10-batches-py/data_batch_4\n",
            "cifar-10-batches-py/readme.html\n",
            "cifar-10-batches-py/test_batch\n",
            "cifar-10-batches-py/data_batch_3\n",
            "cifar-10-batches-py/batches.meta\n",
            "cifar-10-batches-py/data_batch_2\n",
            "cifar-10-batches-py/data_batch_5\n",
            "cifar-10-batches-py/data_batch_1\n",
            "batches.meta  data_batch_2  data_batch_4  readme.html\n",
            "data_batch_1  data_batch_3  data_batch_5  test_batch\n"
          ]
        }
      ]
    },
    {
      "cell_type": "code",
      "source": [
        "!ls cifar-10-batches-py/"
      ],
      "metadata": {
        "id": "mTkkBdaNscs8"
      },
      "execution_count": null,
      "outputs": []
    },
    {
      "cell_type": "code",
      "source": [
        "import pickle\n",
        "\n",
        "def load_cifar10_batch(cifar10_dataset_folder_path, batch_id):\n",
        "\n",
        "  with open(cifar10_dataset_folder_path + '/data_batch_' + str(batch_id), mode='rb') as file:\n",
        "      # note the encoding type is 'latin1'\n",
        "      batch = pickle.load(file, encoding='latin1')\n",
        "      \n",
        "  features = batch['data'].reshape((len(batch['data']), 3, 32, 32)).transpose(0, 2, 3, 1)\n",
        "  labels = batch['labels']\n",
        "      \n",
        "  return features, labels\n",
        "\n",
        "def load_label_names():\n",
        "  return ['airplane', 'automobile', 'bird', 'cat', 'deer', 'dog', 'frog', 'horse', 'ship', 'truck']"
      ],
      "metadata": {
        "id": "SdyLO3WjpnkD"
      },
      "execution_count": 20,
      "outputs": []
    },
    {
      "cell_type": "code",
      "source": [
        "import numpy as np\n",
        "\n",
        "features_p = np.array([])\n",
        "labels_p = np.array([])\n",
        "\n",
        "for batch_id in range(1,6):\n",
        "  features, labels = load_cifar10_batch('./cifar-10-batches-py', batch_id)\n",
        "  labels = np.expand_dims(np.squeeze(labels),1)\n",
        "  if batch_id-1:\n",
        "    features_acc = np.vstack([features_p, features])\n",
        "    labels_acc = np.vstack([labels_p, labels])\n",
        "    features_p = features_acc\n",
        "    labels_p = labels_acc\n",
        "  else:\n",
        "    features_p = features\n",
        "    labels_p = labels"
      ],
      "metadata": {
        "id": "mdnonvyLpnqQ"
      },
      "execution_count": 21,
      "outputs": []
    },
    {
      "cell_type": "code",
      "source": [
        "label_names = load_label_names()\n",
        "features_acc.shape, labels_acc.shape"
      ],
      "metadata": {
        "colab": {
          "base_uri": "https://localhost:8080/"
        },
        "id": "yydyvB8Kpnud",
        "outputId": "6717c6b9-588c-4380-958d-e243460862b1"
      },
      "execution_count": 22,
      "outputs": [
        {
          "output_type": "execute_result",
          "data": {
            "text/plain": [
              "((50000, 32, 32, 3), (50000, 1))"
            ]
          },
          "metadata": {},
          "execution_count": 22
        }
      ]
    },
    {
      "cell_type": "code",
      "source": [
        "from PIL import Image as im\n",
        "import os\n",
        "import shutil\n",
        "from tqdm.notebook import tqdm\n",
        "\n",
        "def write_imagenet_format(features_acc, labels_acc, data_path):\n",
        "  label_names = load_label_names()\n",
        "\n",
        "  if not os.path.exists(data_path):\n",
        "    os.makedirs(data_path)\n",
        "\n",
        "  for label in label_names:\n",
        "    sub_fold = os.path.join(data_path,label)\n",
        "    if not os.path.exists(sub_fold):\n",
        "      os.mkdir(sub_fold)\n",
        "\n",
        "  for i in tqdm(range(features_acc.shape[0])):\n",
        "    samp = features_acc[i]\n",
        "    label = np.squeeze(labels_acc[i])\n",
        "    data = im.fromarray(samp, 'RGB')\n",
        "    data_save_path = os.path.join(data_path,label_names[label],str(i)+'.jpg')\n",
        "    data.save(data_save_path)"
      ],
      "metadata": {
        "id": "V6NDrJjxpnxF"
      },
      "execution_count": 23,
      "outputs": []
    },
    {
      "cell_type": "code",
      "source": [
        "train_path = 'c10_data/train_data'\n",
        "write_imagenet_format(features_acc, labels_acc, train_path)"
      ],
      "metadata": {
        "colab": {
          "base_uri": "https://localhost:8080/",
          "height": 49,
          "referenced_widgets": [
            "f9643ed1d8e545f6a9eb6844c5314557",
            "840089ad76ac43e1afd6892c0e94c5ec",
            "bc0dd635a79448bbad7e6ab719f64de3",
            "a0d07de7b71e44269a15bb7d0bb60d74",
            "90fb1a9ca10847fa85f1f35f5965c69a",
            "0e577afaba8d4e6a9b203448e22ecfdd",
            "9d9ebfbecad74bde82b9678da9b1d153",
            "b72cc62ec0334d3eb0d24b193e87e6e7",
            "d451b27c61d5478c87c9f2a033577932",
            "466cddbeff524262a26b65bc4ab855ab",
            "db7ac49e852c4c5a8cf93e2ac12cbbd4"
          ]
        },
        "id": "x2cvQYARqAed",
        "outputId": "b9e02a33-c891-46b5-8277-8d04f67df5b1"
      },
      "execution_count": 24,
      "outputs": [
        {
          "output_type": "display_data",
          "data": {
            "text/plain": [
              "  0%|          | 0/50000 [00:00<?, ?it/s]"
            ],
            "application/vnd.jupyter.widget-view+json": {
              "version_major": 2,
              "version_minor": 0,
              "model_id": "f9643ed1d8e545f6a9eb6844c5314557"
            }
          },
          "metadata": {}
        }
      ]
    },
    {
      "cell_type": "code",
      "source": [
        "import pickle\n",
        "with open('./cifar-10-batches-py/test_batch', mode='rb') as file:\n",
        "    batch = pickle.load(file, encoding='latin1')\n",
        "test_features = batch['data'].reshape((len(batch['data']), 3, 32, 32)).transpose(0, 2, 3, 1)\n",
        "test_labels = batch['labels']"
      ],
      "metadata": {
        "id": "jjUXntXIqAha"
      },
      "execution_count": 26,
      "outputs": []
    },
    {
      "cell_type": "code",
      "source": [
        "test_path = 'c10_data/test_data'\n",
        "write_imagenet_format(test_features, test_labels, test_path)"
      ],
      "metadata": {
        "colab": {
          "base_uri": "https://localhost:8080/",
          "height": 49,
          "referenced_widgets": [
            "fe1b21d397874e4095a90d5825c17394",
            "83faa162d01240a4b413676b4057c862",
            "d47d0b3bc6ba4d39ae0491a557f2dcb8",
            "1df612c2e4f34eb89cf8c3e077a33bca",
            "952a1868f1f14cc499040c3eba356499",
            "33c18ef2a6ca4e8d86e0be6f51abed46",
            "8b7efebc58fb4b3faa3eec684c86610e",
            "1f68698fa7754050a4baca5cd2b74f45",
            "82c472e421d743f2a2ce437c65c4f87a",
            "05af9615902d4876b52619be1ca468e9",
            "9872ca3542a74edeb4c00e9a8da4ab28"
          ]
        },
        "id": "-PqegQE9qAkA",
        "outputId": "118fabd2-ebc5-49c6-c74c-a90630640491"
      },
      "execution_count": 27,
      "outputs": [
        {
          "output_type": "display_data",
          "data": {
            "text/plain": [
              "  0%|          | 0/10000 [00:00<?, ?it/s]"
            ],
            "application/vnd.jupyter.widget-view+json": {
              "version_major": 2,
              "version_minor": 0,
              "model_id": "fe1b21d397874e4095a90d5825c17394"
            }
          },
          "metadata": {}
        }
      ]
    },
    {
      "cell_type": "code",
      "source": [
        ""
      ],
      "metadata": {
        "id": "qRhT-3jWqAmK"
      },
      "execution_count": null,
      "outputs": []
    },
    {
      "cell_type": "markdown",
      "source": [
        "Download the Public Dataset"
      ],
      "metadata": {
        "id": "YWwR0qo5bqr6"
      }
    },
    {
      "cell_type": "code",
      "metadata": {
        "id": "h8Z7BchoXLDe",
        "colab": {
          "base_uri": "https://localhost:8080/"
        },
        "outputId": "88416fdc-f66e-430d-e474-a34798471238"
      },
      "source": [
        "# data_dir = tf.keras.utils.get_file(origin='https://storage.googleapis.com/download.tensorflow.org/example_images/flower_photos.tgz',\n",
        "#                                          fname='flower_photos', untar=True)\n",
        "\n",
        "data_dir = './c10_data/train_data'\n",
        "print(data_dir)"
      ],
      "execution_count": 28,
      "outputs": [
        {
          "output_type": "stream",
          "name": "stdout",
          "text": [
            "./c10_data/train_data\n"
          ]
        }
      ]
    },
    {
      "cell_type": "markdown",
      "source": [
        "Recursively Read all the Images from the Parent directory and create a DataFrame"
      ],
      "metadata": {
        "id": "twAETGtMcFAQ"
      }
    },
    {
      "cell_type": "code",
      "metadata": {
        "id": "8-Jh-li0V3al",
        "colab": {
          "base_uri": "https://localhost:8080/"
        },
        "outputId": "042cbba6-4fe6-4c06-cc9c-f824f9be12b8"
      },
      "source": [
        "images = spark.read.format(\"binaryFile\").option(\"recursiveFileLookup\", \"true\").option(\"pathGlobFilter\", \"*.jpg\").load(data_dir)\n",
        "print(type(images))"
      ],
      "execution_count": 29,
      "outputs": [
        {
          "output_type": "stream",
          "name": "stdout",
          "text": [
            "<class 'pyspark.sql.dataframe.DataFrame'>\n"
          ]
        }
      ]
    },
    {
      "cell_type": "code",
      "source": [
        "images.show(5)"
      ],
      "metadata": {
        "colab": {
          "base_uri": "https://localhost:8080/"
        },
        "id": "fIpI0dx4BHdB",
        "outputId": "a082e366-c535-4a0d-d0cd-2394a6b40697"
      },
      "execution_count": 30,
      "outputs": [
        {
          "output_type": "stream",
          "name": "stdout",
          "text": [
            "+--------------------+--------------------+------+--------------------+\n",
            "|                path|    modificationTime|length|             content|\n",
            "+--------------------+--------------------+------+--------------------+\n",
            "|file:/content/c10...|2022-04-16 04:47:...|  1124|[FF D8 FF E0 00 1...|\n",
            "|file:/content/c10...|2022-04-16 04:47:...|  1121|[FF D8 FF E0 00 1...|\n",
            "|file:/content/c10...|2022-04-16 04:47:...|  1118|[FF D8 FF E0 00 1...|\n",
            "|file:/content/c10...|2022-04-16 04:47:...|  1111|[FF D8 FF E0 00 1...|\n",
            "|file:/content/c10...|2022-04-16 04:47:...|  1104|[FF D8 FF E0 00 1...|\n",
            "+--------------------+--------------------+------+--------------------+\n",
            "only showing top 5 rows\n",
            "\n"
          ]
        }
      ]
    },
    {
      "cell_type": "code",
      "source": [
        "# files=images.select('path').rdd.map(lambda x :x.path ).collect()\n",
        "# files[0:10]"
      ],
      "metadata": {
        "id": "lCL7nq9_BWeK"
      },
      "execution_count": null,
      "outputs": []
    },
    {
      "cell_type": "code",
      "metadata": {
        "id": "ekKZzpVPha5M"
      },
      "source": [
        "regexp = \"./c10_data/train_data/([^/]+)\"\n",
        "\n",
        "def extract_label(path_col):\n",
        "  \"\"\"Extract label from file path using built-in SQL functions.\"\"\"\n",
        "  return regexp_extract(path_col, regexp, 1)\n",
        "\n",
        "def extract_size(content):\n",
        "  \"\"\"Extract image size from its raw content.\"\"\"\n",
        "  image = Image.open(io.BytesIO(content))\n",
        "  return image.size\n",
        "\n",
        "@pandas_udf(\"width: int, height: int\")\n",
        "def extract_size_udf(content_series):\n",
        "  sizes = content_series.apply(extract_size)\n",
        "  return pd.DataFrame(list(sizes))\n",
        "\n",
        "df = images.select(\n",
        "  col(\"path\"),\n",
        "  col(\"modificationTime\"),\n",
        "  extract_label(col(\"path\")).alias(\"label\"),\n",
        "  extract_size_udf(col(\"content\")).alias(\"size\"),\n",
        "  col(\"content\"))\n",
        "\n",
        "\n",
        "# df.show(5)\n"
      ],
      "execution_count": 32,
      "outputs": []
    },
    {
      "cell_type": "code",
      "source": [
        "ima=images.select('content').rdd.map(lambda x: x.content).collect()\n",
        "imgg = Image.open(io.BytesIO(ima[0]))\n",
        "imgg"
      ],
      "metadata": {
        "colab": {
          "base_uri": "https://localhost:8080/"
        },
        "id": "4xnBLBH6vf_h",
        "outputId": "3b9003fd-e66e-406b-f456-3e267f40ea5e"
      },
      "execution_count": 33,
      "outputs": [
        {
          "output_type": "execute_result",
          "data": {
            "text/plain": [
              "bytearray(b'\\xff\\xd8\\xff\\xe0\\x00\\x10JFIF\\x00\\x01\\x01\\x00\\x00\\x01\\x00\\x01\\x00\\x00\\xff\\xdb\\x00C\\x00\\x08\\x06\\x06\\x07\\x06\\x05\\x08\\x07\\x07\\x07\\t\\t\\x08\\n\\x0c\\x14\\r\\x0c\\x0b\\x0b\\x0c\\x19\\x12\\x13\\x0f\\x14\\x1d\\x1a\\x1f\\x1e\\x1d\\x1a\\x1c\\x1c $.\\' \",#\\x1c\\x1c(7),01444\\x1f\\'9=82<.342\\xff\\xdb\\x00C\\x01\\t\\t\\t\\x0c\\x0b\\x0c\\x18\\r\\r\\x182!\\x1c!22222222222222222222222222222222222222222222222222\\xff\\xc0\\x00\\x11\\x08\\x00 \\x00 \\x03\\x01\"\\x00\\x02\\x11\\x01\\x03\\x11\\x01\\xff\\xc4\\x00\\x1f\\x00\\x00\\x01\\x05\\x01\\x01\\x01\\x01\\x01\\x01\\x00\\x00\\x00\\x00\\x00\\x00\\x00\\x00\\x01\\x02\\x03\\x04\\x05\\x06\\x07\\x08\\t\\n\\x0b\\xff\\xc4\\x00\\xb5\\x10\\x00\\x02\\x01\\x03\\x03\\x02\\x04\\x03\\x05\\x05\\x04\\x04\\x00\\x00\\x01}\\x01\\x02\\x03\\x00\\x04\\x11\\x05\\x12!1A\\x06\\x13Qa\\x07\"q\\x142\\x81\\x91\\xa1\\x08#B\\xb1\\xc1\\x15R\\xd1\\xf0$3br\\x82\\t\\n\\x16\\x17\\x18\\x19\\x1a%&\\'()*456789:CDEFGHIJSTUVWXYZcdefghijstuvwxyz\\x83\\x84\\x85\\x86\\x87\\x88\\x89\\x8a\\x92\\x93\\x94\\x95\\x96\\x97\\x98\\x99\\x9a\\xa2\\xa3\\xa4\\xa5\\xa6\\xa7\\xa8\\xa9\\xaa\\xb2\\xb3\\xb4\\xb5\\xb6\\xb7\\xb8\\xb9\\xba\\xc2\\xc3\\xc4\\xc5\\xc6\\xc7\\xc8\\xc9\\xca\\xd2\\xd3\\xd4\\xd5\\xd6\\xd7\\xd8\\xd9\\xda\\xe1\\xe2\\xe3\\xe4\\xe5\\xe6\\xe7\\xe8\\xe9\\xea\\xf1\\xf2\\xf3\\xf4\\xf5\\xf6\\xf7\\xf8\\xf9\\xfa\\xff\\xc4\\x00\\x1f\\x01\\x00\\x03\\x01\\x01\\x01\\x01\\x01\\x01\\x01\\x01\\x01\\x00\\x00\\x00\\x00\\x00\\x00\\x01\\x02\\x03\\x04\\x05\\x06\\x07\\x08\\t\\n\\x0b\\xff\\xc4\\x00\\xb5\\x11\\x00\\x02\\x01\\x02\\x04\\x04\\x03\\x04\\x07\\x05\\x04\\x04\\x00\\x01\\x02w\\x00\\x01\\x02\\x03\\x11\\x04\\x05!1\\x06\\x12AQ\\x07aq\\x13\"2\\x81\\x08\\x14B\\x91\\xa1\\xb1\\xc1\\t#3R\\xf0\\x15br\\xd1\\n\\x16$4\\xe1%\\xf1\\x17\\x18\\x19\\x1a&\\'()*56789:CDEFGHIJSTUVWXYZcdefghijstuvwxyz\\x82\\x83\\x84\\x85\\x86\\x87\\x88\\x89\\x8a\\x92\\x93\\x94\\x95\\x96\\x97\\x98\\x99\\x9a\\xa2\\xa3\\xa4\\xa5\\xa6\\xa7\\xa8\\xa9\\xaa\\xb2\\xb3\\xb4\\xb5\\xb6\\xb7\\xb8\\xb9\\xba\\xc2\\xc3\\xc4\\xc5\\xc6\\xc7\\xc8\\xc9\\xca\\xd2\\xd3\\xd4\\xd5\\xd6\\xd7\\xd8\\xd9\\xda\\xe2\\xe3\\xe4\\xe5\\xe6\\xe7\\xe8\\xe9\\xea\\xf2\\xf3\\xf4\\xf5\\xf6\\xf7\\xf8\\xf9\\xfa\\xff\\xda\\x00\\x0c\\x03\\x01\\x00\\x02\\x11\\x03\\x11\\x00?\\x00\\xf4?\\x13xo[\\xbe\\xbe\\xb9\\xbb\\xb7\\xf1#iPe\\x19v\\xca\\xc9\\xb8.K\\x06\\xc1\\x03\\x07 g\\xa8\\x02\\xb9\\xfd/\\xe24\\xfav\\xa7\\xbbV\\xd4m\\xaeb,\\xf1\\xcdkbZ\\xe3i\\x18\\xd9$L\\x06H \\xe1\\x81\\xef\\xcdV\\xf1\\xd6\\xb5\\xa8\\xea:\\x8c\\xb6\\xb0 \\x13\\xda\\xdc\\xbcQ\\xc6\\xd14m\\xe5\\x14!\\x88\\xcf\\x0e\\xbe\\xad\\xc601\\\\<\\x86\\x11b%[o\\x11Im\\xb1L\\xdf\\xbc\\x02\\x12\\xfe\\xbbYw\\x15\\xe3\\xbfn\\xb5\\xc1*\\xbe\\xf5\\xe3\\xd1\\xff\\x00Z_\\xee5Q\\xd0\\xf6\\xbb\\xbf\\x1f\\xe9O\\x1b\\x0b[\\xd5\\x86T\\xe4\\xa5\\xca\\x15\\x0c1\\xc8\\xc8\\xe8k#\\xc3\\x9f\\x13\\xe5\\xbc\\x8a6\\xd64i\\xec\\xec\\xda\\xe1\\xad\\x97PiT\\xc7\\x91\\x9co\\xe9\\xb4\\x9cu\\xe9\\x9a\\xf1\\xcb\\x88\\xee\\'.\\xda\\\\Z}\\xea\\xbe\\x0bF\\xdfer\\x06}\\xb0{\\x1e+g\\xc1\\xba}\\xb6\\xad\\xe2\\xdd;M\\xd4\\x9a\\xee\\xd6\\xdd\\xc34vq\\xb3\\xc4\\x19\\x87$\\x94l\\xab)\\x1c\\x1d\\xa6\\x9f\\xb6\\xa9&\\xac\\xd7\\xf5\\xe5\\xfd \\xe4I\\x1e\\xf1\\xe2\\x0f\\ni\\x1e%\\x83\\xcb\\xd4m\\xb78\\x04\\tQ\\x8a8\\x1e\\x9b\\x878\\xf6\\xe9^-\\xf1\\x0b\\xc1:\\x1f\\x84\\xac\\xe2\\x96Mc\\xcb\\x18o.\\xdddu\\x98\\xe1x#\\xe6!\\xb9\\xf5\\xc7Z\\xf6\\xdf\\x11i\\xfa\\x8e\\xa5\\xa7\\xac:e\\xea\\xd9\\xdc\\t\\x03y\\xa5s\\x81\\xfe{{\\xd7-\\xa3\\xfc&\\xd2\\xeco\\xae/\\xb5MB\\xf7Y\\xb9\\xb9P\\xb3\\x1b\\xd2\\xac\\xad\\x8flg\\x1e\\xd9\\xae\\x99\\xc3\\x9bdBv<\\x85\\xbc\\t\\xe27\\xd0\\xac5[\\x9d/K\\x92\\xcex\\xd5\\x8c\\xd3\\x0c\\xca\\xaa\\xcb\\x9d\\xeeT\\x02\\x00\\x1d\\xbe\\x95g\\xc0\\x13-\\xad\\xed\\x9d\\xce\\x8b\\x7f{{\\xa8@\\xef\\x14vmn\\x8c\\x1a\\x0c\\x8c\\xb6\\xe6? $\\xf5\\xeb\\xd8W\\xbcx\\x9eG\\x83E\\x16\\xb6p\\xcf%\\xc4\\xec\"\\x82\\x1bs\\xb3\\'\\x04\\xf2q\\xc2\\x80\\x0e~\\x98\\xaew\\xc0\\x1e\\x03M\\x11\\xbf\\xb6o\\xd5[S\\x9a=\\xa0\\x08\\xcayjNNA$\\x96<d\\x9f@+9\\xd1m\\xfb\\xae\\xdf\\xd7\\xf5\\xd8\\xa5=5?\\xff\\xd9')"
            ]
          },
          "metadata": {},
          "execution_count": 33
        }
      ]
    },
    {
      "cell_type": "code",
      "metadata": {
        "id": "jrDuJgc-oO8z"
      },
      "source": [
        "class ImageNetDataset(Dataset):\n",
        "  \"\"\"\n",
        "  Converts image contents into a PyTorch Dataset with standard ImageNet preprocessing.\n",
        "  \"\"\"\n",
        "  def __init__(self, contents):\n",
        "    self.contents = contents\n",
        "\n",
        "  def __len__(self):\n",
        "    \n",
        "    return len(self.contents)\n",
        "\n",
        "  def __getitem__(self, index):\n",
        "    return self._preprocess(self.contents[index])\n",
        "\n",
        "  def _preprocess(self, content):\n",
        "    \"\"\"\n",
        "    Preprocesses the input image content using standard ImageNet normalization.\n",
        "    \n",
        "    See https://pytorch.org/docs/stable/torchvision/models.html.\n",
        "    \"\"\"\n",
        "    image = Image.open(io.BytesIO(content))\n",
        "    transform = transforms.Compose([\n",
        "      transforms.Resize(256),                         ### Smaller lenght is convertd to 256 \n",
        "      transforms.CenterCrop(224),\n",
        "      transforms.ToTensor(),\n",
        "      transforms.Normalize(mean=[0.485, 0.456, 0.406], std=[0.229, 0.224, 0.225]),\n",
        "    ])\n",
        "    return transform(image)"
      ],
      "execution_count": 36,
      "outputs": []
    },
    {
      "cell_type": "code",
      "metadata": {
        "id": "kvHGxWr-oVDC"
      },
      "source": [
        "\n",
        "def imagenet_model_udf(model):\n",
        "  \"\"\"\n",
        "  Wraps an ImageNet model into a Pandas UDF that makes predictions.\n",
        "  \n",
        "  You might consider the following customizations for your own use case:\n",
        "    - Tune DataLoader's batch_size and num_workers for better performance.\n",
        "    - Use GPU for acceleration.\n",
        "    - Change prediction types.\n",
        "  \"\"\"\n",
        "  model.eval()\n",
        "  def predict(content_series_iter : pd.Series) -> pd.DataFrame:\n",
        "    for content_series in content_series_iter:                                                    #Iterates overall all Images \n",
        "      dataset = ImageNetDataset(list(content_series))                                           \n",
        "      loader = DataLoader(dataset, batch_size=64) \n",
        "      with torch.no_grad():\n",
        "        for image_batch in loader:\n",
        "          predictions = model(image_batch).numpy()                                                # Predictions for all 1000 classes of Mobilenetv2 Training Dataset\n",
        "          predicted_labels = [x[0] for x in decode_predictions(predictions, top=1)]                       \n",
        "          yield pd.DataFrame(predicted_labels)\n",
        "\n",
        "  return_type = \"class: string, desc: string, score:float\"\n",
        "  # return_type = \"class: string\"                                         # SCALAR_ITER implies the function accepts list/array of scalar values as input.\n",
        "  return pandas_udf(predict,return_type, PandasUDFType.SCALAR_ITER)   \n",
        "  # return pandas_udf(return_type, PandasUDFType.SCALAR_ITER)(predict)   \n",
        "  \n",
        "  #Returns a Predict function object as the final user defined function object.\n",
        "  #Iterates over an Image: A sequence of bytes represented as a 2D array. \n",
        "  #Scalar is a series of bytes.    "
      ],
      "execution_count": 37,
      "outputs": []
    },
    {
      "cell_type": "code",
      "source": [
        "# imagenet = imagenet_model_udf(lambda: models.mobilenet_v2(pretrained=True))\n",
        "\n",
        "model=models.mobilenet_v2(pretrained=True)\n",
        "imagenet = imagenet_model_udf(model)\n",
        "imagenet"
      ],
      "metadata": {
        "colab": {
          "base_uri": "https://localhost:8080/"
        },
        "id": "fevQ4pyg0w7P",
        "outputId": "2a0c5c54-a395-43c3-d73f-faeb5d025d6d"
      },
      "execution_count": 38,
      "outputs": [
        {
          "output_type": "stream",
          "name": "stderr",
          "text": [
            "/usr/local/lib/python3.7/dist-packages/pyspark/sql/pandas/functions.py:392: UserWarning: In Python 3.6+ and Spark 3.0+, it is preferred to specify type hints for pandas UDF instead of specifying pandas UDF type which will be deprecated in the future releases. See SPARK-28264 for more details.\n",
            "  \"in the future releases. See SPARK-28264 for more details.\", UserWarning)\n"
          ]
        },
        {
          "output_type": "execute_result",
          "data": {
            "text/plain": [
              "<function __main__.imagenet_model_udf.<locals>.predict>"
            ]
          },
          "metadata": {},
          "execution_count": 38
        }
      ]
    },
    {
      "cell_type": "code",
      "metadata": {
        "id": "n3llm3H0oa9t",
        "colab": {
          "base_uri": "https://localhost:8080/",
          "height": 35
        },
        "outputId": "f4bae473-d2de-43f9-b6ff-b360d60604ef"
      },
      "source": [
        "predictions = df.withColumn(\"prediction\", imagenet(col(\"content\")))\n",
        "display(predictions.select(col(\"path\"), col(\"prediction\")).limit(5))"
      ],
      "execution_count": 39,
      "outputs": [
        {
          "output_type": "display_data",
          "data": {
            "text/plain": [
              "DataFrame[path: string, prediction: struct<class:string,desc:string,score:float>]"
            ]
          },
          "metadata": {}
        }
      ]
    },
    {
      "cell_type": "code",
      "metadata": {
        "id": "4CQXmwXKykd9",
        "colab": {
          "base_uri": "https://localhost:8080/"
        },
        "outputId": "4a4c22eb-a45c-40a2-fe84-51846c0de090"
      },
      "source": [
        "predictions.select(col(\"label\"),col(\"prediction\")).show(50,truncate=False)"
      ],
      "execution_count": 40,
      "outputs": [
        {
          "output_type": "stream",
          "name": "stdout",
          "text": [
            "+----------+---------------------------------------+\n",
            "|label     |prediction                             |\n",
            "+----------+---------------------------------------+\n",
            "|frog      |{n01744401, rock_python, 7.9679623}    |\n",
            "|bird      |{n03944341, pinwheel, 10.355642}       |\n",
            "|truck     |{n02817516, bearskin, 10.859891}       |\n",
            "|automobile|{n03794056, mousetrap, 12.167225}      |\n",
            "|truck     |{n03843555, oil_filter, 9.178589}      |\n",
            "|truck     |{n04428191, thresher, 17.19516}        |\n",
            "|frog      |{n02128925, jaguar, 11.967956}         |\n",
            "|truck     |{n03796401, moving_van, 11.574023}     |\n",
            "|airplane  |{n04542943, waffle_iron, 11.026524}    |\n",
            "|automobile|{n03884397, panpipe, 11.6462755}       |\n",
            "|frog      |{n01756291, sidewinder, 11.004475}     |\n",
            "|truck     |{n02690373, airliner, 9.261075}        |\n",
            "|automobile|{n03720891, maraca, 7.206638}          |\n",
            "|truck     |{n04428191, thresher, 12.286238}       |\n",
            "|frog      |{n03047690, clog, 9.803439}            |\n",
            "|truck     |{n04428191, thresher, 13.313608}       |\n",
            "|truck     |{n03796401, moving_van, 10.6111765}    |\n",
            "|frog      |{n03595614, jersey, 8.623622}          |\n",
            "|truck     |{n04428191, thresher, 13.043023}       |\n",
            "|truck     |{n04428191, thresher, 13.7224045}      |\n",
            "|cat       |{n03347037, fire_screen, 10.372003}    |\n",
            "|truck     |{n03796401, moving_van, 12.940854}     |\n",
            "|frog      |{n01756291, sidewinder, 9.27737}       |\n",
            "|truck     |{n04443257, tobacco_shop, 7.492293}    |\n",
            "|bird      |{n02492660, howler_monkey, 8.389995}   |\n",
            "|frog      |{n07760859, custard_apple, 6.9756556}  |\n",
            "|frog      |{n03838899, oboe, 10.030443}           |\n",
            "|automobile|{n04428191, thresher, 11.466286}       |\n",
            "|deer      |{n01773549, barn_spider, 11.132671}    |\n",
            "|truck     |{n03000684, chain_saw, 10.690723}      |\n",
            "|truck     |{n03796401, moving_van, 8.472254}      |\n",
            "|truck     |{n04428191, thresher, 11.305825}       |\n",
            "|truck     |{n03796401, moving_van, 15.45972}      |\n",
            "|frog      |{n02457408, three-toed_sloth, 8.887815}|\n",
            "|frog      |{n03047690, clog, 9.57558}             |\n",
            "|automobile|{n03796401, moving_van, 13.080662}     |\n",
            "|automobile|{n03796401, moving_van, 12.673038}     |\n",
            "|truck     |{n04443257, tobacco_shop, 8.2792225}   |\n",
            "|frog      |{n07695742, pretzel, 10.2572155}       |\n",
            "|frog      |{n01756291, sidewinder, 9.12196}       |\n",
            "|automobile|{n04443257, tobacco_shop, 8.509384}    |\n",
            "|automobile|{n03796401, moving_van, 16.99414}      |\n",
            "|truck     |{n03796401, moving_van, 6.719248}      |\n",
            "|truck     |{n03062245, cocktail_shaker, 7.34604}  |\n",
            "|automobile|{n03843555, oil_filter, 9.001449}      |\n",
            "|truck     |{n04428191, thresher, 14.001273}       |\n",
            "|truck     |{n04428191, thresher, 10.822567}       |\n",
            "|truck     |{n04428191, thresher, 12.408042}       |\n",
            "|bird      |{n03706229, magnetic_compass, 9.432032}|\n",
            "|automobile|{n04428191, thresher, 11.656835}       |\n",
            "+----------+---------------------------------------+\n",
            "only showing top 50 rows\n",
            "\n"
          ]
        }
      ]
    },
    {
      "cell_type": "code",
      "source": [
        ""
      ],
      "metadata": {
        "id": "eTL3yADW8mWN"
      },
      "execution_count": null,
      "outputs": []
    }
  ]
}