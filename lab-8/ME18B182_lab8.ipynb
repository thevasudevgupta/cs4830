{
  "nbformat": 4,
  "nbformat_minor": 0,
  "metadata": {
    "colab": {
      "name": "ME18B182-lab8.ipynb",
      "provenance": [],
      "collapsed_sections": [],
      "include_colab_link": true
    },
    "kernelspec": {
      "name": "python3",
      "display_name": "Python 3"
    },
    "widgets": {
      "application/vnd.jupyter.widget-state+json": {
        "3a189c178eff47c19e65d89f2bd54f49": {
          "model_module": "@jupyter-widgets/controls",
          "model_name": "HBoxModel",
          "model_module_version": "1.5.0",
          "state": {
            "_dom_classes": [],
            "_model_module": "@jupyter-widgets/controls",
            "_model_module_version": "1.5.0",
            "_model_name": "HBoxModel",
            "_view_count": null,
            "_view_module": "@jupyter-widgets/controls",
            "_view_module_version": "1.5.0",
            "_view_name": "HBoxView",
            "box_style": "",
            "children": [
              "IPY_MODEL_420dc39922ae466c942f0ecf7aeb9995",
              "IPY_MODEL_9a6e0c9c53c249f78f2f80b9117b9f30",
              "IPY_MODEL_6cde15b58831481cb85bdf7aefa638ae"
            ],
            "layout": "IPY_MODEL_093c93cfc33e46619a05469d84363ff1"
          }
        },
        "420dc39922ae466c942f0ecf7aeb9995": {
          "model_module": "@jupyter-widgets/controls",
          "model_name": "HTMLModel",
          "model_module_version": "1.5.0",
          "state": {
            "_dom_classes": [],
            "_model_module": "@jupyter-widgets/controls",
            "_model_module_version": "1.5.0",
            "_model_name": "HTMLModel",
            "_view_count": null,
            "_view_module": "@jupyter-widgets/controls",
            "_view_module_version": "1.5.0",
            "_view_name": "HTMLView",
            "description": "",
            "description_tooltip": null,
            "layout": "IPY_MODEL_02348543c7cf42f487337e8fe60213fb",
            "placeholder": "​",
            "style": "IPY_MODEL_875f027504514543b5d7e0d644a881ab",
            "value": "100%"
          }
        },
        "9a6e0c9c53c249f78f2f80b9117b9f30": {
          "model_module": "@jupyter-widgets/controls",
          "model_name": "FloatProgressModel",
          "model_module_version": "1.5.0",
          "state": {
            "_dom_classes": [],
            "_model_module": "@jupyter-widgets/controls",
            "_model_module_version": "1.5.0",
            "_model_name": "FloatProgressModel",
            "_view_count": null,
            "_view_module": "@jupyter-widgets/controls",
            "_view_module_version": "1.5.0",
            "_view_name": "ProgressView",
            "bar_style": "success",
            "description": "",
            "description_tooltip": null,
            "layout": "IPY_MODEL_27562623b0a94393a29eb8d39eb9fcb4",
            "max": 50000,
            "min": 0,
            "orientation": "horizontal",
            "style": "IPY_MODEL_04c0f70fa67a4530a703e7f0e02366a2",
            "value": 50000
          }
        },
        "6cde15b58831481cb85bdf7aefa638ae": {
          "model_module": "@jupyter-widgets/controls",
          "model_name": "HTMLModel",
          "model_module_version": "1.5.0",
          "state": {
            "_dom_classes": [],
            "_model_module": "@jupyter-widgets/controls",
            "_model_module_version": "1.5.0",
            "_model_name": "HTMLModel",
            "_view_count": null,
            "_view_module": "@jupyter-widgets/controls",
            "_view_module_version": "1.5.0",
            "_view_name": "HTMLView",
            "description": "",
            "description_tooltip": null,
            "layout": "IPY_MODEL_25eeaff04ca743049a120c3b5a9aa363",
            "placeholder": "​",
            "style": "IPY_MODEL_ee96d5d6befb49e3b248964893e1ae08",
            "value": " 50000/50000 [00:29&lt;00:00, 2011.01it/s]"
          }
        },
        "093c93cfc33e46619a05469d84363ff1": {
          "model_module": "@jupyter-widgets/base",
          "model_name": "LayoutModel",
          "model_module_version": "1.2.0",
          "state": {
            "_model_module": "@jupyter-widgets/base",
            "_model_module_version": "1.2.0",
            "_model_name": "LayoutModel",
            "_view_count": null,
            "_view_module": "@jupyter-widgets/base",
            "_view_module_version": "1.2.0",
            "_view_name": "LayoutView",
            "align_content": null,
            "align_items": null,
            "align_self": null,
            "border": null,
            "bottom": null,
            "display": null,
            "flex": null,
            "flex_flow": null,
            "grid_area": null,
            "grid_auto_columns": null,
            "grid_auto_flow": null,
            "grid_auto_rows": null,
            "grid_column": null,
            "grid_gap": null,
            "grid_row": null,
            "grid_template_areas": null,
            "grid_template_columns": null,
            "grid_template_rows": null,
            "height": null,
            "justify_content": null,
            "justify_items": null,
            "left": null,
            "margin": null,
            "max_height": null,
            "max_width": null,
            "min_height": null,
            "min_width": null,
            "object_fit": null,
            "object_position": null,
            "order": null,
            "overflow": null,
            "overflow_x": null,
            "overflow_y": null,
            "padding": null,
            "right": null,
            "top": null,
            "visibility": null,
            "width": null
          }
        },
        "02348543c7cf42f487337e8fe60213fb": {
          "model_module": "@jupyter-widgets/base",
          "model_name": "LayoutModel",
          "model_module_version": "1.2.0",
          "state": {
            "_model_module": "@jupyter-widgets/base",
            "_model_module_version": "1.2.0",
            "_model_name": "LayoutModel",
            "_view_count": null,
            "_view_module": "@jupyter-widgets/base",
            "_view_module_version": "1.2.0",
            "_view_name": "LayoutView",
            "align_content": null,
            "align_items": null,
            "align_self": null,
            "border": null,
            "bottom": null,
            "display": null,
            "flex": null,
            "flex_flow": null,
            "grid_area": null,
            "grid_auto_columns": null,
            "grid_auto_flow": null,
            "grid_auto_rows": null,
            "grid_column": null,
            "grid_gap": null,
            "grid_row": null,
            "grid_template_areas": null,
            "grid_template_columns": null,
            "grid_template_rows": null,
            "height": null,
            "justify_content": null,
            "justify_items": null,
            "left": null,
            "margin": null,
            "max_height": null,
            "max_width": null,
            "min_height": null,
            "min_width": null,
            "object_fit": null,
            "object_position": null,
            "order": null,
            "overflow": null,
            "overflow_x": null,
            "overflow_y": null,
            "padding": null,
            "right": null,
            "top": null,
            "visibility": null,
            "width": null
          }
        },
        "875f027504514543b5d7e0d644a881ab": {
          "model_module": "@jupyter-widgets/controls",
          "model_name": "DescriptionStyleModel",
          "model_module_version": "1.5.0",
          "state": {
            "_model_module": "@jupyter-widgets/controls",
            "_model_module_version": "1.5.0",
            "_model_name": "DescriptionStyleModel",
            "_view_count": null,
            "_view_module": "@jupyter-widgets/base",
            "_view_module_version": "1.2.0",
            "_view_name": "StyleView",
            "description_width": ""
          }
        },
        "27562623b0a94393a29eb8d39eb9fcb4": {
          "model_module": "@jupyter-widgets/base",
          "model_name": "LayoutModel",
          "model_module_version": "1.2.0",
          "state": {
            "_model_module": "@jupyter-widgets/base",
            "_model_module_version": "1.2.0",
            "_model_name": "LayoutModel",
            "_view_count": null,
            "_view_module": "@jupyter-widgets/base",
            "_view_module_version": "1.2.0",
            "_view_name": "LayoutView",
            "align_content": null,
            "align_items": null,
            "align_self": null,
            "border": null,
            "bottom": null,
            "display": null,
            "flex": null,
            "flex_flow": null,
            "grid_area": null,
            "grid_auto_columns": null,
            "grid_auto_flow": null,
            "grid_auto_rows": null,
            "grid_column": null,
            "grid_gap": null,
            "grid_row": null,
            "grid_template_areas": null,
            "grid_template_columns": null,
            "grid_template_rows": null,
            "height": null,
            "justify_content": null,
            "justify_items": null,
            "left": null,
            "margin": null,
            "max_height": null,
            "max_width": null,
            "min_height": null,
            "min_width": null,
            "object_fit": null,
            "object_position": null,
            "order": null,
            "overflow": null,
            "overflow_x": null,
            "overflow_y": null,
            "padding": null,
            "right": null,
            "top": null,
            "visibility": null,
            "width": null
          }
        },
        "04c0f70fa67a4530a703e7f0e02366a2": {
          "model_module": "@jupyter-widgets/controls",
          "model_name": "ProgressStyleModel",
          "model_module_version": "1.5.0",
          "state": {
            "_model_module": "@jupyter-widgets/controls",
            "_model_module_version": "1.5.0",
            "_model_name": "ProgressStyleModel",
            "_view_count": null,
            "_view_module": "@jupyter-widgets/base",
            "_view_module_version": "1.2.0",
            "_view_name": "StyleView",
            "bar_color": null,
            "description_width": ""
          }
        },
        "25eeaff04ca743049a120c3b5a9aa363": {
          "model_module": "@jupyter-widgets/base",
          "model_name": "LayoutModel",
          "model_module_version": "1.2.0",
          "state": {
            "_model_module": "@jupyter-widgets/base",
            "_model_module_version": "1.2.0",
            "_model_name": "LayoutModel",
            "_view_count": null,
            "_view_module": "@jupyter-widgets/base",
            "_view_module_version": "1.2.0",
            "_view_name": "LayoutView",
            "align_content": null,
            "align_items": null,
            "align_self": null,
            "border": null,
            "bottom": null,
            "display": null,
            "flex": null,
            "flex_flow": null,
            "grid_area": null,
            "grid_auto_columns": null,
            "grid_auto_flow": null,
            "grid_auto_rows": null,
            "grid_column": null,
            "grid_gap": null,
            "grid_row": null,
            "grid_template_areas": null,
            "grid_template_columns": null,
            "grid_template_rows": null,
            "height": null,
            "justify_content": null,
            "justify_items": null,
            "left": null,
            "margin": null,
            "max_height": null,
            "max_width": null,
            "min_height": null,
            "min_width": null,
            "object_fit": null,
            "object_position": null,
            "order": null,
            "overflow": null,
            "overflow_x": null,
            "overflow_y": null,
            "padding": null,
            "right": null,
            "top": null,
            "visibility": null,
            "width": null
          }
        },
        "ee96d5d6befb49e3b248964893e1ae08": {
          "model_module": "@jupyter-widgets/controls",
          "model_name": "DescriptionStyleModel",
          "model_module_version": "1.5.0",
          "state": {
            "_model_module": "@jupyter-widgets/controls",
            "_model_module_version": "1.5.0",
            "_model_name": "DescriptionStyleModel",
            "_view_count": null,
            "_view_module": "@jupyter-widgets/base",
            "_view_module_version": "1.2.0",
            "_view_name": "StyleView",
            "description_width": ""
          }
        },
        "c13c6101bc0d42149c27916e0980e4da": {
          "model_module": "@jupyter-widgets/controls",
          "model_name": "HBoxModel",
          "model_module_version": "1.5.0",
          "state": {
            "_dom_classes": [],
            "_model_module": "@jupyter-widgets/controls",
            "_model_module_version": "1.5.0",
            "_model_name": "HBoxModel",
            "_view_count": null,
            "_view_module": "@jupyter-widgets/controls",
            "_view_module_version": "1.5.0",
            "_view_name": "HBoxView",
            "box_style": "",
            "children": [
              "IPY_MODEL_0b237355e1c44cf0b7eb88b3c84f45d0",
              "IPY_MODEL_29b87ddf7e464cf08af012cc41f3eb0d",
              "IPY_MODEL_21651f5f5c874d8d8452dd17f652df09"
            ],
            "layout": "IPY_MODEL_86c7f4cf236f4604b7e3816218c89b90"
          }
        },
        "0b237355e1c44cf0b7eb88b3c84f45d0": {
          "model_module": "@jupyter-widgets/controls",
          "model_name": "HTMLModel",
          "model_module_version": "1.5.0",
          "state": {
            "_dom_classes": [],
            "_model_module": "@jupyter-widgets/controls",
            "_model_module_version": "1.5.0",
            "_model_name": "HTMLModel",
            "_view_count": null,
            "_view_module": "@jupyter-widgets/controls",
            "_view_module_version": "1.5.0",
            "_view_name": "HTMLView",
            "description": "",
            "description_tooltip": null,
            "layout": "IPY_MODEL_e4b41a7af8dc4d4ebb4ecdfa20a711ad",
            "placeholder": "​",
            "style": "IPY_MODEL_5bc36caf29804b88b081ec6459a81114",
            "value": "100%"
          }
        },
        "29b87ddf7e464cf08af012cc41f3eb0d": {
          "model_module": "@jupyter-widgets/controls",
          "model_name": "FloatProgressModel",
          "model_module_version": "1.5.0",
          "state": {
            "_dom_classes": [],
            "_model_module": "@jupyter-widgets/controls",
            "_model_module_version": "1.5.0",
            "_model_name": "FloatProgressModel",
            "_view_count": null,
            "_view_module": "@jupyter-widgets/controls",
            "_view_module_version": "1.5.0",
            "_view_name": "ProgressView",
            "bar_style": "success",
            "description": "",
            "description_tooltip": null,
            "layout": "IPY_MODEL_d9e47322500b4dc091892e4ac32e7e9c",
            "max": 102530333,
            "min": 0,
            "orientation": "horizontal",
            "style": "IPY_MODEL_161d249d0cb64936ba0755af6b06e93e",
            "value": 102530333
          }
        },
        "21651f5f5c874d8d8452dd17f652df09": {
          "model_module": "@jupyter-widgets/controls",
          "model_name": "HTMLModel",
          "model_module_version": "1.5.0",
          "state": {
            "_dom_classes": [],
            "_model_module": "@jupyter-widgets/controls",
            "_model_module_version": "1.5.0",
            "_model_name": "HTMLModel",
            "_view_count": null,
            "_view_module": "@jupyter-widgets/controls",
            "_view_module_version": "1.5.0",
            "_view_name": "HTMLView",
            "description": "",
            "description_tooltip": null,
            "layout": "IPY_MODEL_79ef87ce24e741f187082ed4f7948a3f",
            "placeholder": "​",
            "style": "IPY_MODEL_2a2aa18e98874b4eb3bbf859423013fe",
            "value": " 97.8M/97.8M [00:01&lt;00:00, 77.4MB/s]"
          }
        },
        "86c7f4cf236f4604b7e3816218c89b90": {
          "model_module": "@jupyter-widgets/base",
          "model_name": "LayoutModel",
          "model_module_version": "1.2.0",
          "state": {
            "_model_module": "@jupyter-widgets/base",
            "_model_module_version": "1.2.0",
            "_model_name": "LayoutModel",
            "_view_count": null,
            "_view_module": "@jupyter-widgets/base",
            "_view_module_version": "1.2.0",
            "_view_name": "LayoutView",
            "align_content": null,
            "align_items": null,
            "align_self": null,
            "border": null,
            "bottom": null,
            "display": null,
            "flex": null,
            "flex_flow": null,
            "grid_area": null,
            "grid_auto_columns": null,
            "grid_auto_flow": null,
            "grid_auto_rows": null,
            "grid_column": null,
            "grid_gap": null,
            "grid_row": null,
            "grid_template_areas": null,
            "grid_template_columns": null,
            "grid_template_rows": null,
            "height": null,
            "justify_content": null,
            "justify_items": null,
            "left": null,
            "margin": null,
            "max_height": null,
            "max_width": null,
            "min_height": null,
            "min_width": null,
            "object_fit": null,
            "object_position": null,
            "order": null,
            "overflow": null,
            "overflow_x": null,
            "overflow_y": null,
            "padding": null,
            "right": null,
            "top": null,
            "visibility": null,
            "width": null
          }
        },
        "e4b41a7af8dc4d4ebb4ecdfa20a711ad": {
          "model_module": "@jupyter-widgets/base",
          "model_name": "LayoutModel",
          "model_module_version": "1.2.0",
          "state": {
            "_model_module": "@jupyter-widgets/base",
            "_model_module_version": "1.2.0",
            "_model_name": "LayoutModel",
            "_view_count": null,
            "_view_module": "@jupyter-widgets/base",
            "_view_module_version": "1.2.0",
            "_view_name": "LayoutView",
            "align_content": null,
            "align_items": null,
            "align_self": null,
            "border": null,
            "bottom": null,
            "display": null,
            "flex": null,
            "flex_flow": null,
            "grid_area": null,
            "grid_auto_columns": null,
            "grid_auto_flow": null,
            "grid_auto_rows": null,
            "grid_column": null,
            "grid_gap": null,
            "grid_row": null,
            "grid_template_areas": null,
            "grid_template_columns": null,
            "grid_template_rows": null,
            "height": null,
            "justify_content": null,
            "justify_items": null,
            "left": null,
            "margin": null,
            "max_height": null,
            "max_width": null,
            "min_height": null,
            "min_width": null,
            "object_fit": null,
            "object_position": null,
            "order": null,
            "overflow": null,
            "overflow_x": null,
            "overflow_y": null,
            "padding": null,
            "right": null,
            "top": null,
            "visibility": null,
            "width": null
          }
        },
        "5bc36caf29804b88b081ec6459a81114": {
          "model_module": "@jupyter-widgets/controls",
          "model_name": "DescriptionStyleModel",
          "model_module_version": "1.5.0",
          "state": {
            "_model_module": "@jupyter-widgets/controls",
            "_model_module_version": "1.5.0",
            "_model_name": "DescriptionStyleModel",
            "_view_count": null,
            "_view_module": "@jupyter-widgets/base",
            "_view_module_version": "1.2.0",
            "_view_name": "StyleView",
            "description_width": ""
          }
        },
        "d9e47322500b4dc091892e4ac32e7e9c": {
          "model_module": "@jupyter-widgets/base",
          "model_name": "LayoutModel",
          "model_module_version": "1.2.0",
          "state": {
            "_model_module": "@jupyter-widgets/base",
            "_model_module_version": "1.2.0",
            "_model_name": "LayoutModel",
            "_view_count": null,
            "_view_module": "@jupyter-widgets/base",
            "_view_module_version": "1.2.0",
            "_view_name": "LayoutView",
            "align_content": null,
            "align_items": null,
            "align_self": null,
            "border": null,
            "bottom": null,
            "display": null,
            "flex": null,
            "flex_flow": null,
            "grid_area": null,
            "grid_auto_columns": null,
            "grid_auto_flow": null,
            "grid_auto_rows": null,
            "grid_column": null,
            "grid_gap": null,
            "grid_row": null,
            "grid_template_areas": null,
            "grid_template_columns": null,
            "grid_template_rows": null,
            "height": null,
            "justify_content": null,
            "justify_items": null,
            "left": null,
            "margin": null,
            "max_height": null,
            "max_width": null,
            "min_height": null,
            "min_width": null,
            "object_fit": null,
            "object_position": null,
            "order": null,
            "overflow": null,
            "overflow_x": null,
            "overflow_y": null,
            "padding": null,
            "right": null,
            "top": null,
            "visibility": null,
            "width": null
          }
        },
        "161d249d0cb64936ba0755af6b06e93e": {
          "model_module": "@jupyter-widgets/controls",
          "model_name": "ProgressStyleModel",
          "model_module_version": "1.5.0",
          "state": {
            "_model_module": "@jupyter-widgets/controls",
            "_model_module_version": "1.5.0",
            "_model_name": "ProgressStyleModel",
            "_view_count": null,
            "_view_module": "@jupyter-widgets/base",
            "_view_module_version": "1.2.0",
            "_view_name": "StyleView",
            "bar_color": null,
            "description_width": ""
          }
        },
        "79ef87ce24e741f187082ed4f7948a3f": {
          "model_module": "@jupyter-widgets/base",
          "model_name": "LayoutModel",
          "model_module_version": "1.2.0",
          "state": {
            "_model_module": "@jupyter-widgets/base",
            "_model_module_version": "1.2.0",
            "_model_name": "LayoutModel",
            "_view_count": null,
            "_view_module": "@jupyter-widgets/base",
            "_view_module_version": "1.2.0",
            "_view_name": "LayoutView",
            "align_content": null,
            "align_items": null,
            "align_self": null,
            "border": null,
            "bottom": null,
            "display": null,
            "flex": null,
            "flex_flow": null,
            "grid_area": null,
            "grid_auto_columns": null,
            "grid_auto_flow": null,
            "grid_auto_rows": null,
            "grid_column": null,
            "grid_gap": null,
            "grid_row": null,
            "grid_template_areas": null,
            "grid_template_columns": null,
            "grid_template_rows": null,
            "height": null,
            "justify_content": null,
            "justify_items": null,
            "left": null,
            "margin": null,
            "max_height": null,
            "max_width": null,
            "min_height": null,
            "min_width": null,
            "object_fit": null,
            "object_position": null,
            "order": null,
            "overflow": null,
            "overflow_x": null,
            "overflow_y": null,
            "padding": null,
            "right": null,
            "top": null,
            "visibility": null,
            "width": null
          }
        },
        "2a2aa18e98874b4eb3bbf859423013fe": {
          "model_module": "@jupyter-widgets/controls",
          "model_name": "DescriptionStyleModel",
          "model_module_version": "1.5.0",
          "state": {
            "_model_module": "@jupyter-widgets/controls",
            "_model_module_version": "1.5.0",
            "_model_name": "DescriptionStyleModel",
            "_view_count": null,
            "_view_module": "@jupyter-widgets/base",
            "_view_module_version": "1.2.0",
            "_view_name": "StyleView",
            "description_width": ""
          }
        },
        "71d51a133f8e433b9eb6348e2bf11012": {
          "model_module": "@jupyter-widgets/controls",
          "model_name": "HBoxModel",
          "model_module_version": "1.5.0",
          "state": {
            "_dom_classes": [],
            "_model_module": "@jupyter-widgets/controls",
            "_model_module_version": "1.5.0",
            "_model_name": "HBoxModel",
            "_view_count": null,
            "_view_module": "@jupyter-widgets/controls",
            "_view_module_version": "1.5.0",
            "_view_name": "HBoxView",
            "box_style": "",
            "children": [
              "IPY_MODEL_ddd040b66df4410983827590a4d33650",
              "IPY_MODEL_bfbbfd6632744583b3745b6c18621b74",
              "IPY_MODEL_62900c25a66646739d3496aef9d578b1"
            ],
            "layout": "IPY_MODEL_d2323cb39c8846dc89d21df13bc81386"
          }
        },
        "ddd040b66df4410983827590a4d33650": {
          "model_module": "@jupyter-widgets/controls",
          "model_name": "HTMLModel",
          "model_module_version": "1.5.0",
          "state": {
            "_dom_classes": [],
            "_model_module": "@jupyter-widgets/controls",
            "_model_module_version": "1.5.0",
            "_model_name": "HTMLModel",
            "_view_count": null,
            "_view_module": "@jupyter-widgets/controls",
            "_view_module_version": "1.5.0",
            "_view_name": "HTMLView",
            "description": "",
            "description_tooltip": null,
            "layout": "IPY_MODEL_93323deb61654bddbf091bd8ed6ee351",
            "placeholder": "​",
            "style": "IPY_MODEL_b163f746054d47eba0195c84cc5df299",
            "value": "100%"
          }
        },
        "bfbbfd6632744583b3745b6c18621b74": {
          "model_module": "@jupyter-widgets/controls",
          "model_name": "FloatProgressModel",
          "model_module_version": "1.5.0",
          "state": {
            "_dom_classes": [],
            "_model_module": "@jupyter-widgets/controls",
            "_model_module_version": "1.5.0",
            "_model_name": "FloatProgressModel",
            "_view_count": null,
            "_view_module": "@jupyter-widgets/controls",
            "_view_module_version": "1.5.0",
            "_view_name": "ProgressView",
            "bar_style": "success",
            "description": "",
            "description_tooltip": null,
            "layout": "IPY_MODEL_83882bf425d14fbc85ce5a4469900e07",
            "max": 574673361,
            "min": 0,
            "orientation": "horizontal",
            "style": "IPY_MODEL_a346f1dc362d4ed8b4156e58a859b148",
            "value": 574673361
          }
        },
        "62900c25a66646739d3496aef9d578b1": {
          "model_module": "@jupyter-widgets/controls",
          "model_name": "HTMLModel",
          "model_module_version": "1.5.0",
          "state": {
            "_dom_classes": [],
            "_model_module": "@jupyter-widgets/controls",
            "_model_module_version": "1.5.0",
            "_model_name": "HTMLModel",
            "_view_count": null,
            "_view_module": "@jupyter-widgets/controls",
            "_view_module_version": "1.5.0",
            "_view_name": "HTMLView",
            "description": "",
            "description_tooltip": null,
            "layout": "IPY_MODEL_aaf0f24500f945dc9095d432deb5004b",
            "placeholder": "​",
            "style": "IPY_MODEL_d264de498fb24fb99fc75eb23ee5c178",
            "value": " 548M/548M [00:07&lt;00:00, 97.2MB/s]"
          }
        },
        "d2323cb39c8846dc89d21df13bc81386": {
          "model_module": "@jupyter-widgets/base",
          "model_name": "LayoutModel",
          "model_module_version": "1.2.0",
          "state": {
            "_model_module": "@jupyter-widgets/base",
            "_model_module_version": "1.2.0",
            "_model_name": "LayoutModel",
            "_view_count": null,
            "_view_module": "@jupyter-widgets/base",
            "_view_module_version": "1.2.0",
            "_view_name": "LayoutView",
            "align_content": null,
            "align_items": null,
            "align_self": null,
            "border": null,
            "bottom": null,
            "display": null,
            "flex": null,
            "flex_flow": null,
            "grid_area": null,
            "grid_auto_columns": null,
            "grid_auto_flow": null,
            "grid_auto_rows": null,
            "grid_column": null,
            "grid_gap": null,
            "grid_row": null,
            "grid_template_areas": null,
            "grid_template_columns": null,
            "grid_template_rows": null,
            "height": null,
            "justify_content": null,
            "justify_items": null,
            "left": null,
            "margin": null,
            "max_height": null,
            "max_width": null,
            "min_height": null,
            "min_width": null,
            "object_fit": null,
            "object_position": null,
            "order": null,
            "overflow": null,
            "overflow_x": null,
            "overflow_y": null,
            "padding": null,
            "right": null,
            "top": null,
            "visibility": null,
            "width": null
          }
        },
        "93323deb61654bddbf091bd8ed6ee351": {
          "model_module": "@jupyter-widgets/base",
          "model_name": "LayoutModel",
          "model_module_version": "1.2.0",
          "state": {
            "_model_module": "@jupyter-widgets/base",
            "_model_module_version": "1.2.0",
            "_model_name": "LayoutModel",
            "_view_count": null,
            "_view_module": "@jupyter-widgets/base",
            "_view_module_version": "1.2.0",
            "_view_name": "LayoutView",
            "align_content": null,
            "align_items": null,
            "align_self": null,
            "border": null,
            "bottom": null,
            "display": null,
            "flex": null,
            "flex_flow": null,
            "grid_area": null,
            "grid_auto_columns": null,
            "grid_auto_flow": null,
            "grid_auto_rows": null,
            "grid_column": null,
            "grid_gap": null,
            "grid_row": null,
            "grid_template_areas": null,
            "grid_template_columns": null,
            "grid_template_rows": null,
            "height": null,
            "justify_content": null,
            "justify_items": null,
            "left": null,
            "margin": null,
            "max_height": null,
            "max_width": null,
            "min_height": null,
            "min_width": null,
            "object_fit": null,
            "object_position": null,
            "order": null,
            "overflow": null,
            "overflow_x": null,
            "overflow_y": null,
            "padding": null,
            "right": null,
            "top": null,
            "visibility": null,
            "width": null
          }
        },
        "b163f746054d47eba0195c84cc5df299": {
          "model_module": "@jupyter-widgets/controls",
          "model_name": "DescriptionStyleModel",
          "model_module_version": "1.5.0",
          "state": {
            "_model_module": "@jupyter-widgets/controls",
            "_model_module_version": "1.5.0",
            "_model_name": "DescriptionStyleModel",
            "_view_count": null,
            "_view_module": "@jupyter-widgets/base",
            "_view_module_version": "1.2.0",
            "_view_name": "StyleView",
            "description_width": ""
          }
        },
        "83882bf425d14fbc85ce5a4469900e07": {
          "model_module": "@jupyter-widgets/base",
          "model_name": "LayoutModel",
          "model_module_version": "1.2.0",
          "state": {
            "_model_module": "@jupyter-widgets/base",
            "_model_module_version": "1.2.0",
            "_model_name": "LayoutModel",
            "_view_count": null,
            "_view_module": "@jupyter-widgets/base",
            "_view_module_version": "1.2.0",
            "_view_name": "LayoutView",
            "align_content": null,
            "align_items": null,
            "align_self": null,
            "border": null,
            "bottom": null,
            "display": null,
            "flex": null,
            "flex_flow": null,
            "grid_area": null,
            "grid_auto_columns": null,
            "grid_auto_flow": null,
            "grid_auto_rows": null,
            "grid_column": null,
            "grid_gap": null,
            "grid_row": null,
            "grid_template_areas": null,
            "grid_template_columns": null,
            "grid_template_rows": null,
            "height": null,
            "justify_content": null,
            "justify_items": null,
            "left": null,
            "margin": null,
            "max_height": null,
            "max_width": null,
            "min_height": null,
            "min_width": null,
            "object_fit": null,
            "object_position": null,
            "order": null,
            "overflow": null,
            "overflow_x": null,
            "overflow_y": null,
            "padding": null,
            "right": null,
            "top": null,
            "visibility": null,
            "width": null
          }
        },
        "a346f1dc362d4ed8b4156e58a859b148": {
          "model_module": "@jupyter-widgets/controls",
          "model_name": "ProgressStyleModel",
          "model_module_version": "1.5.0",
          "state": {
            "_model_module": "@jupyter-widgets/controls",
            "_model_module_version": "1.5.0",
            "_model_name": "ProgressStyleModel",
            "_view_count": null,
            "_view_module": "@jupyter-widgets/base",
            "_view_module_version": "1.2.0",
            "_view_name": "StyleView",
            "bar_color": null,
            "description_width": ""
          }
        },
        "aaf0f24500f945dc9095d432deb5004b": {
          "model_module": "@jupyter-widgets/base",
          "model_name": "LayoutModel",
          "model_module_version": "1.2.0",
          "state": {
            "_model_module": "@jupyter-widgets/base",
            "_model_module_version": "1.2.0",
            "_model_name": "LayoutModel",
            "_view_count": null,
            "_view_module": "@jupyter-widgets/base",
            "_view_module_version": "1.2.0",
            "_view_name": "LayoutView",
            "align_content": null,
            "align_items": null,
            "align_self": null,
            "border": null,
            "bottom": null,
            "display": null,
            "flex": null,
            "flex_flow": null,
            "grid_area": null,
            "grid_auto_columns": null,
            "grid_auto_flow": null,
            "grid_auto_rows": null,
            "grid_column": null,
            "grid_gap": null,
            "grid_row": null,
            "grid_template_areas": null,
            "grid_template_columns": null,
            "grid_template_rows": null,
            "height": null,
            "justify_content": null,
            "justify_items": null,
            "left": null,
            "margin": null,
            "max_height": null,
            "max_width": null,
            "min_height": null,
            "min_width": null,
            "object_fit": null,
            "object_position": null,
            "order": null,
            "overflow": null,
            "overflow_x": null,
            "overflow_y": null,
            "padding": null,
            "right": null,
            "top": null,
            "visibility": null,
            "width": null
          }
        },
        "d264de498fb24fb99fc75eb23ee5c178": {
          "model_module": "@jupyter-widgets/controls",
          "model_name": "DescriptionStyleModel",
          "model_module_version": "1.5.0",
          "state": {
            "_model_module": "@jupyter-widgets/controls",
            "_model_module_version": "1.5.0",
            "_model_name": "DescriptionStyleModel",
            "_view_count": null,
            "_view_module": "@jupyter-widgets/base",
            "_view_module_version": "1.2.0",
            "_view_name": "StyleView",
            "description_width": ""
          }
        },
        "785bf7512ec941dcbd68396ef4c57a11": {
          "model_module": "@jupyter-widgets/controls",
          "model_name": "HBoxModel",
          "model_module_version": "1.5.0",
          "state": {
            "_dom_classes": [],
            "_model_module": "@jupyter-widgets/controls",
            "_model_module_version": "1.5.0",
            "_model_name": "HBoxModel",
            "_view_count": null,
            "_view_module": "@jupyter-widgets/controls",
            "_view_module_version": "1.5.0",
            "_view_name": "HBoxView",
            "box_style": "",
            "children": [
              "IPY_MODEL_e2da06f3b951453087569ead65277da4",
              "IPY_MODEL_0e27258cddbb4e5d973964892964b103",
              "IPY_MODEL_b62bdff6bcaf4fe4879897c1465fe5c5"
            ],
            "layout": "IPY_MODEL_c71cf22301ed493d81a24cfe313bc8b9"
          }
        },
        "e2da06f3b951453087569ead65277da4": {
          "model_module": "@jupyter-widgets/controls",
          "model_name": "HTMLModel",
          "model_module_version": "1.5.0",
          "state": {
            "_dom_classes": [],
            "_model_module": "@jupyter-widgets/controls",
            "_model_module_version": "1.5.0",
            "_model_name": "HTMLModel",
            "_view_count": null,
            "_view_module": "@jupyter-widgets/controls",
            "_view_module_version": "1.5.0",
            "_view_name": "HTMLView",
            "description": "",
            "description_tooltip": null,
            "layout": "IPY_MODEL_c6a3736a69074427bea90aca3f2339dc",
            "placeholder": "​",
            "style": "IPY_MODEL_03f7dba16dbd4f8a9d955b0dc0ea8166",
            "value": "100%"
          }
        },
        "0e27258cddbb4e5d973964892964b103": {
          "model_module": "@jupyter-widgets/controls",
          "model_name": "FloatProgressModel",
          "model_module_version": "1.5.0",
          "state": {
            "_dom_classes": [],
            "_model_module": "@jupyter-widgets/controls",
            "_model_module_version": "1.5.0",
            "_model_name": "FloatProgressModel",
            "_view_count": null,
            "_view_module": "@jupyter-widgets/controls",
            "_view_module_version": "1.5.0",
            "_view_name": "ProgressView",
            "bar_style": "success",
            "description": "",
            "description_tooltip": null,
            "layout": "IPY_MODEL_b1c5dbe52181428bad87ea8caf7d29d9",
            "max": 32342954,
            "min": 0,
            "orientation": "horizontal",
            "style": "IPY_MODEL_2138b83f6a9240f4a6447b5131ee9497",
            "value": 32342954
          }
        },
        "b62bdff6bcaf4fe4879897c1465fe5c5": {
          "model_module": "@jupyter-widgets/controls",
          "model_name": "HTMLModel",
          "model_module_version": "1.5.0",
          "state": {
            "_dom_classes": [],
            "_model_module": "@jupyter-widgets/controls",
            "_model_module_version": "1.5.0",
            "_model_name": "HTMLModel",
            "_view_count": null,
            "_view_module": "@jupyter-widgets/controls",
            "_view_module_version": "1.5.0",
            "_view_name": "HTMLView",
            "description": "",
            "description_tooltip": null,
            "layout": "IPY_MODEL_11c19a81b628487095b4af786649bc68",
            "placeholder": "​",
            "style": "IPY_MODEL_b85dedb6a5c144bdb96fc58572ff10f4",
            "value": " 30.8M/30.8M [00:03&lt;00:00, 8.90MB/s]"
          }
        },
        "c71cf22301ed493d81a24cfe313bc8b9": {
          "model_module": "@jupyter-widgets/base",
          "model_name": "LayoutModel",
          "model_module_version": "1.2.0",
          "state": {
            "_model_module": "@jupyter-widgets/base",
            "_model_module_version": "1.2.0",
            "_model_name": "LayoutModel",
            "_view_count": null,
            "_view_module": "@jupyter-widgets/base",
            "_view_module_version": "1.2.0",
            "_view_name": "LayoutView",
            "align_content": null,
            "align_items": null,
            "align_self": null,
            "border": null,
            "bottom": null,
            "display": null,
            "flex": null,
            "flex_flow": null,
            "grid_area": null,
            "grid_auto_columns": null,
            "grid_auto_flow": null,
            "grid_auto_rows": null,
            "grid_column": null,
            "grid_gap": null,
            "grid_row": null,
            "grid_template_areas": null,
            "grid_template_columns": null,
            "grid_template_rows": null,
            "height": null,
            "justify_content": null,
            "justify_items": null,
            "left": null,
            "margin": null,
            "max_height": null,
            "max_width": null,
            "min_height": null,
            "min_width": null,
            "object_fit": null,
            "object_position": null,
            "order": null,
            "overflow": null,
            "overflow_x": null,
            "overflow_y": null,
            "padding": null,
            "right": null,
            "top": null,
            "visibility": null,
            "width": null
          }
        },
        "c6a3736a69074427bea90aca3f2339dc": {
          "model_module": "@jupyter-widgets/base",
          "model_name": "LayoutModel",
          "model_module_version": "1.2.0",
          "state": {
            "_model_module": "@jupyter-widgets/base",
            "_model_module_version": "1.2.0",
            "_model_name": "LayoutModel",
            "_view_count": null,
            "_view_module": "@jupyter-widgets/base",
            "_view_module_version": "1.2.0",
            "_view_name": "LayoutView",
            "align_content": null,
            "align_items": null,
            "align_self": null,
            "border": null,
            "bottom": null,
            "display": null,
            "flex": null,
            "flex_flow": null,
            "grid_area": null,
            "grid_auto_columns": null,
            "grid_auto_flow": null,
            "grid_auto_rows": null,
            "grid_column": null,
            "grid_gap": null,
            "grid_row": null,
            "grid_template_areas": null,
            "grid_template_columns": null,
            "grid_template_rows": null,
            "height": null,
            "justify_content": null,
            "justify_items": null,
            "left": null,
            "margin": null,
            "max_height": null,
            "max_width": null,
            "min_height": null,
            "min_width": null,
            "object_fit": null,
            "object_position": null,
            "order": null,
            "overflow": null,
            "overflow_x": null,
            "overflow_y": null,
            "padding": null,
            "right": null,
            "top": null,
            "visibility": null,
            "width": null
          }
        },
        "03f7dba16dbd4f8a9d955b0dc0ea8166": {
          "model_module": "@jupyter-widgets/controls",
          "model_name": "DescriptionStyleModel",
          "model_module_version": "1.5.0",
          "state": {
            "_model_module": "@jupyter-widgets/controls",
            "_model_module_version": "1.5.0",
            "_model_name": "DescriptionStyleModel",
            "_view_count": null,
            "_view_module": "@jupyter-widgets/base",
            "_view_module_version": "1.2.0",
            "_view_name": "StyleView",
            "description_width": ""
          }
        },
        "b1c5dbe52181428bad87ea8caf7d29d9": {
          "model_module": "@jupyter-widgets/base",
          "model_name": "LayoutModel",
          "model_module_version": "1.2.0",
          "state": {
            "_model_module": "@jupyter-widgets/base",
            "_model_module_version": "1.2.0",
            "_model_name": "LayoutModel",
            "_view_count": null,
            "_view_module": "@jupyter-widgets/base",
            "_view_module_version": "1.2.0",
            "_view_name": "LayoutView",
            "align_content": null,
            "align_items": null,
            "align_self": null,
            "border": null,
            "bottom": null,
            "display": null,
            "flex": null,
            "flex_flow": null,
            "grid_area": null,
            "grid_auto_columns": null,
            "grid_auto_flow": null,
            "grid_auto_rows": null,
            "grid_column": null,
            "grid_gap": null,
            "grid_row": null,
            "grid_template_areas": null,
            "grid_template_columns": null,
            "grid_template_rows": null,
            "height": null,
            "justify_content": null,
            "justify_items": null,
            "left": null,
            "margin": null,
            "max_height": null,
            "max_width": null,
            "min_height": null,
            "min_width": null,
            "object_fit": null,
            "object_position": null,
            "order": null,
            "overflow": null,
            "overflow_x": null,
            "overflow_y": null,
            "padding": null,
            "right": null,
            "top": null,
            "visibility": null,
            "width": null
          }
        },
        "2138b83f6a9240f4a6447b5131ee9497": {
          "model_module": "@jupyter-widgets/controls",
          "model_name": "ProgressStyleModel",
          "model_module_version": "1.5.0",
          "state": {
            "_model_module": "@jupyter-widgets/controls",
            "_model_module_version": "1.5.0",
            "_model_name": "ProgressStyleModel",
            "_view_count": null,
            "_view_module": "@jupyter-widgets/base",
            "_view_module_version": "1.2.0",
            "_view_name": "StyleView",
            "bar_color": null,
            "description_width": ""
          }
        },
        "11c19a81b628487095b4af786649bc68": {
          "model_module": "@jupyter-widgets/base",
          "model_name": "LayoutModel",
          "model_module_version": "1.2.0",
          "state": {
            "_model_module": "@jupyter-widgets/base",
            "_model_module_version": "1.2.0",
            "_model_name": "LayoutModel",
            "_view_count": null,
            "_view_module": "@jupyter-widgets/base",
            "_view_module_version": "1.2.0",
            "_view_name": "LayoutView",
            "align_content": null,
            "align_items": null,
            "align_self": null,
            "border": null,
            "bottom": null,
            "display": null,
            "flex": null,
            "flex_flow": null,
            "grid_area": null,
            "grid_auto_columns": null,
            "grid_auto_flow": null,
            "grid_auto_rows": null,
            "grid_column": null,
            "grid_gap": null,
            "grid_row": null,
            "grid_template_areas": null,
            "grid_template_columns": null,
            "grid_template_rows": null,
            "height": null,
            "justify_content": null,
            "justify_items": null,
            "left": null,
            "margin": null,
            "max_height": null,
            "max_width": null,
            "min_height": null,
            "min_width": null,
            "object_fit": null,
            "object_position": null,
            "order": null,
            "overflow": null,
            "overflow_x": null,
            "overflow_y": null,
            "padding": null,
            "right": null,
            "top": null,
            "visibility": null,
            "width": null
          }
        },
        "b85dedb6a5c144bdb96fc58572ff10f4": {
          "model_module": "@jupyter-widgets/controls",
          "model_name": "DescriptionStyleModel",
          "model_module_version": "1.5.0",
          "state": {
            "_model_module": "@jupyter-widgets/controls",
            "_model_module_version": "1.5.0",
            "_model_name": "DescriptionStyleModel",
            "_view_count": null,
            "_view_module": "@jupyter-widgets/base",
            "_view_module_version": "1.2.0",
            "_view_name": "StyleView",
            "description_width": ""
          }
        }
      }
    }
  },
  "cells": [
    {
      "cell_type": "markdown",
      "metadata": {
        "id": "view-in-github",
        "colab_type": "text"
      },
      "source": [
        "<a href=\"https://colab.research.google.com/github/vasudevgupta7/cs4830-assignments/blob/main/lab-8/ME18B182_lab8.ipynb\" target=\"_parent\"><img src=\"https://colab.research.google.com/assets/colab-badge.svg\" alt=\"Open In Colab\"/></a>"
      ]
    },
    {
      "cell_type": "code",
      "metadata": {
        "id": "dz907NVoTcok"
      },
      "source": [
        "%%capture\n",
        "\n",
        "!sudo apt-get install openjdk-11-jdk\n",
        "!pip install pyspark\n",
        "!pip install -q findspark\n",
        "!pip install pyarrow"
      ],
      "execution_count": 1,
      "outputs": []
    },
    {
      "cell_type": "code",
      "metadata": {
        "id": "PyFhdHcmFlQg"
      },
      "source": [
        "import os\n",
        "os.environ[\"JAVA_HOME\"] = \"/usr/lib/jvm/java-11-openjdk-amd64\""
      ],
      "execution_count": 2,
      "outputs": []
    },
    {
      "cell_type": "markdown",
      "source": [
        "## Question-1"
      ],
      "metadata": {
        "id": "xlWtt2cVpTHR"
      }
    },
    {
      "cell_type": "code",
      "metadata": {
        "id": "OVQK8VGjl_jG"
      },
      "source": [
        "import io\n",
        "from pathlib import Path\n",
        "import pandas as pd\n",
        "from tqdm.auto import tqdm\n",
        "\n",
        "import torch\n",
        "from torchvision import models, transforms\n",
        "from tensorflow.keras.applications.imagenet_utils import decode_predictions\n",
        "\n",
        "from PIL import Image\n",
        "\n",
        "import findspark\n",
        "from pyspark.sql import SparkSession\n",
        "from pyspark.sql.functions import col, pandas_udf, regexp_extract, PandasUDFType\n",
        "\n",
        "findspark.init()\n",
        "spark = SparkSession.builder.master(\"local[*]\").getOrCreate()"
      ],
      "execution_count": 3,
      "outputs": []
    },
    {
      "cell_type": "code",
      "source": [
        "%%capture\n",
        "\n",
        "!wget https://www.cs.toronto.edu/%7Ekriz/cifar-10-python.tar.gz\n",
        "!tar xvf cifar-10-python.tar.gz"
      ],
      "metadata": {
        "id": "XfYe7hJkpndG"
      },
      "execution_count": 4,
      "outputs": []
    },
    {
      "cell_type": "code",
      "source": [
        "!ls cifar-10-batches-py/"
      ],
      "metadata": {
        "colab": {
          "base_uri": "https://localhost:8080/"
        },
        "id": "Wb7-BzGt2cZL",
        "outputId": "774c466b-4285-4613-f187-b2d780448fa9"
      },
      "execution_count": 5,
      "outputs": [
        {
          "output_type": "stream",
          "name": "stdout",
          "text": [
            "batches.meta  data_batch_2  data_batch_4  readme.html\n",
            "data_batch_1  data_batch_3  data_batch_5  test_batch\n"
          ]
        }
      ]
    },
    {
      "cell_type": "code",
      "source": [
        "import pickle\n",
        "import numpy as np\n",
        "\n",
        "def prepare_cifar10_batch(dataset_batch_path):\n",
        "  with open(dataset_batch_path, mode='rb') as file:\n",
        "      batch = pickle.load(file, encoding='latin1')\n",
        "  images = batch['data'].reshape((len(batch['data']), 3, 32, 32)).transpose(0, 2, 3, 1)      \n",
        "  return images, np.array(batch['labels'])\n",
        "\n",
        "def load_cifar10_dataset(path):\n",
        "  images, labels = [], []\n",
        "  for batch_id in range(1, 6):\n",
        "    dataset_batch_path = f\"{path}/data_batch_{batch_id}\"\n",
        "    tmp_images, tmp_labels = prepare_cifar10_batch(dataset_batch_path)\n",
        "    images.append(tmp_images)\n",
        "    labels.append(tmp_labels)\n",
        "  return np.concatenate(images), np.concatenate(labels)\n",
        "\n",
        "label_names = ['airplane', 'automobile', 'bird', 'cat', 'deer', 'dog', 'frog', 'horse', 'ship', 'truck']"
      ],
      "metadata": {
        "id": "SdyLO3WjpnkD"
      },
      "execution_count": 6,
      "outputs": []
    },
    {
      "cell_type": "code",
      "source": [
        "def write_cifar10_in_imagenet_format(images, labels, path):\n",
        "  path = Path(path)\n",
        "  path.mkdir(exist_ok=True)\n",
        "\n",
        "  for label in label_names:\n",
        "    (path / label).mkdir(exist_ok=True)\n",
        "\n",
        "  for i in tqdm(range(images.shape[0])):\n",
        "    data = Image.fromarray(images[i], 'RGB')\n",
        "    data.save(path / label_names[labels[i]] / f'{i}.jpg')\n",
        "\n",
        "  return path"
      ],
      "metadata": {
        "id": "V6NDrJjxpnxF"
      },
      "execution_count": 7,
      "outputs": []
    },
    {
      "cell_type": "code",
      "source": [
        "path = \"./cifar-10-batches-py\"\n",
        "images, labels = load_cifar10_dataset(path)\n",
        "print(images.shape, labels.shape)\n",
        "\n",
        "data_dir = write_cifar10_in_imagenet_format(images, labels, \"cifar10_train_data\")\n",
        "data_dir"
      ],
      "metadata": {
        "colab": {
          "base_uri": "https://localhost:8080/",
          "height": 84,
          "referenced_widgets": [
            "3a189c178eff47c19e65d89f2bd54f49",
            "420dc39922ae466c942f0ecf7aeb9995",
            "9a6e0c9c53c249f78f2f80b9117b9f30",
            "6cde15b58831481cb85bdf7aefa638ae",
            "093c93cfc33e46619a05469d84363ff1",
            "02348543c7cf42f487337e8fe60213fb",
            "875f027504514543b5d7e0d644a881ab",
            "27562623b0a94393a29eb8d39eb9fcb4",
            "04c0f70fa67a4530a703e7f0e02366a2",
            "25eeaff04ca743049a120c3b5a9aa363",
            "ee96d5d6befb49e3b248964893e1ae08"
          ]
        },
        "id": "x2cvQYARqAed",
        "outputId": "dbacee40-e6b8-4b0e-d36d-849ac4905dbd"
      },
      "execution_count": 8,
      "outputs": [
        {
          "output_type": "stream",
          "name": "stdout",
          "text": [
            "(50000, 32, 32, 3) (50000,)\n"
          ]
        },
        {
          "output_type": "display_data",
          "data": {
            "text/plain": [
              "  0%|          | 0/50000 [00:00<?, ?it/s]"
            ],
            "application/vnd.jupyter.widget-view+json": {
              "version_major": 2,
              "version_minor": 0,
              "model_id": "3a189c178eff47c19e65d89f2bd54f49"
            }
          },
          "metadata": {}
        },
        {
          "output_type": "execute_result",
          "data": {
            "text/plain": [
              "PosixPath('cifar10_train_data')"
            ]
          },
          "metadata": {},
          "execution_count": 8
        }
      ]
    },
    {
      "cell_type": "code",
      "source": [
        "# path = \"./cifar-10-batches-py/test_batch\"\n",
        "# images, labels = prepare_cifar10_batch(path)\n",
        "\n",
        "# write_cifar10_in_imagenet_format(images, labels, \"cifar10_test_data\")"
      ],
      "metadata": {
        "id": "-PqegQE9qAkA"
      },
      "execution_count": 9,
      "outputs": []
    },
    {
      "cell_type": "markdown",
      "source": [
        "Recursively Read all the Images from the Parent directory and create a DataFrame"
      ],
      "metadata": {
        "id": "twAETGtMcFAQ"
      }
    },
    {
      "cell_type": "code",
      "metadata": {
        "id": "8-Jh-li0V3al"
      },
      "source": [
        "images = spark.read.format(\"binaryFile\").option(\"recursiveFileLookup\", \"true\").option(\"pathGlobFilter\", \"*.jpg\").load(str(data_dir))"
      ],
      "execution_count": 10,
      "outputs": []
    },
    {
      "cell_type": "code",
      "source": [
        "images.show(5)"
      ],
      "metadata": {
        "colab": {
          "base_uri": "https://localhost:8080/"
        },
        "id": "fIpI0dx4BHdB",
        "outputId": "2bc63a5c-8aec-4a5c-8d46-3eb0d87cfa7b"
      },
      "execution_count": 11,
      "outputs": [
        {
          "output_type": "stream",
          "name": "stdout",
          "text": [
            "+--------------------+--------------------+------+--------------------+\n",
            "|                path|    modificationTime|length|             content|\n",
            "+--------------------+--------------------+------+--------------------+\n",
            "|file:/content/cif...|2022-04-16 09:20:...|  1124|[FF D8 FF E0 00 1...|\n",
            "|file:/content/cif...|2022-04-16 09:20:...|  1121|[FF D8 FF E0 00 1...|\n",
            "|file:/content/cif...|2022-04-16 09:20:...|  1118|[FF D8 FF E0 00 1...|\n",
            "|file:/content/cif...|2022-04-16 09:20:...|  1111|[FF D8 FF E0 00 1...|\n",
            "|file:/content/cif...|2022-04-16 09:20:...|  1104|[FF D8 FF E0 00 1...|\n",
            "+--------------------+--------------------+------+--------------------+\n",
            "only showing top 5 rows\n",
            "\n"
          ]
        }
      ]
    },
    {
      "cell_type": "code",
      "metadata": {
        "id": "ekKZzpVPha5M",
        "colab": {
          "base_uri": "https://localhost:8080/"
        },
        "outputId": "2d70ef6d-0c25-47e1-cf47-a5f7c9d91680"
      },
      "source": [
        "regexp = f\"{str(data_dir)}/([^/]+)\"\n",
        "\n",
        "def extract_label(path_col):\n",
        "  \"\"\"Extract label from file path using built-in SQL functions.\"\"\"\n",
        "  return regexp_extract(path_col, regexp, 1)\n",
        "\n",
        "def extract_size(content):\n",
        "  \"\"\"Extract image size from its raw content.\"\"\"\n",
        "  image = Image.open(io.BytesIO(content))\n",
        "  return image.size\n",
        "\n",
        "@pandas_udf(\"width: int, height: int\")\n",
        "def extract_size_udf(content_series):\n",
        "  sizes = content_series.apply(extract_size)\n",
        "  return pd.DataFrame(list(sizes))\n",
        "\n",
        "df = images.select(\n",
        "  col(\"path\"),\n",
        "  col(\"modificationTime\"),\n",
        "  extract_label(col(\"path\")).alias(\"label\"),\n",
        "  extract_size_udf(col(\"content\")).alias(\"size\"),\n",
        "  col(\"content\"))\n",
        "\n",
        "df.show(5)"
      ],
      "execution_count": 12,
      "outputs": [
        {
          "output_type": "stream",
          "name": "stdout",
          "text": [
            "+--------------------+--------------------+----------+--------+--------------------+\n",
            "|                path|    modificationTime|     label|    size|             content|\n",
            "+--------------------+--------------------+----------+--------+--------------------+\n",
            "|file:/content/cif...|2022-04-16 09:20:...|      frog|{32, 32}|[FF D8 FF E0 00 1...|\n",
            "|file:/content/cif...|2022-04-16 09:20:...|      bird|{32, 32}|[FF D8 FF E0 00 1...|\n",
            "|file:/content/cif...|2022-04-16 09:20:...|     truck|{32, 32}|[FF D8 FF E0 00 1...|\n",
            "|file:/content/cif...|2022-04-16 09:20:...|automobile|{32, 32}|[FF D8 FF E0 00 1...|\n",
            "|file:/content/cif...|2022-04-16 09:20:...|     truck|{32, 32}|[FF D8 FF E0 00 1...|\n",
            "+--------------------+--------------------+----------+--------+--------------------+\n",
            "only showing top 5 rows\n",
            "\n"
          ]
        }
      ]
    },
    {
      "cell_type": "code",
      "source": [
        "ima = images.select('content').rdd.map(lambda x: x.content).collect()\n",
        "imgg = Image.open(io.BytesIO(ima[0]))\n",
        "imgg"
      ],
      "metadata": {
        "colab": {
          "base_uri": "https://localhost:8080/",
          "height": 49
        },
        "id": "4xnBLBH6vf_h",
        "outputId": "4101063a-b6fd-49f6-a002-8cbe49b967a3"
      },
      "execution_count": 13,
      "outputs": [
        {
          "output_type": "execute_result",
          "data": {
            "text/plain": [
              "<PIL.JpegImagePlugin.JpegImageFile image mode=RGB size=32x32 at 0x7F93FF847810>"
            ],
            "image/png": "[encoded data removed]"
          },
          "metadata": {},
          "execution_count": 13
        }
      ]
    },
    {
      "cell_type": "code",
      "metadata": {
        "id": "jrDuJgc-oO8z"
      },
      "source": [
        "class Cifar10Dataset(torch.utils.data.Dataset):\n",
        "  \"\"\"\n",
        "  Converts image contents into a PyTorch Dataset with standard ImageNet preprocessing.\n",
        "  \"\"\"\n",
        "  def __init__(self, contents):\n",
        "    self.contents = contents\n",
        "\n",
        "  def __len__(self):\n",
        "    return len(self.contents)\n",
        "\n",
        "  def __getitem__(self, index):\n",
        "    return self._preprocess(self.contents[index])\n",
        "\n",
        "  def _preprocess(self, content):\n",
        "    \"\"\"\n",
        "    Preprocesses the input image content using standard ImageNet normalization.\n",
        "    \n",
        "    See https://pytorch.org/docs/stable/torchvision/models.html.\n",
        "    \"\"\"\n",
        "    image = Image.open(io.BytesIO(content))\n",
        "    transform = transforms.Compose([\n",
        "      transforms.Resize(256),                         ### Smaller lenght is convertd to 256 \n",
        "      transforms.CenterCrop(224),\n",
        "      transforms.ToTensor(),\n",
        "      transforms.Normalize(mean=[0.485, 0.456, 0.406], std=[0.229, 0.224, 0.225]),\n",
        "    ])\n",
        "    return transform(image)"
      ],
      "execution_count": 14,
      "outputs": []
    },
    {
      "cell_type": "code",
      "metadata": {
        "id": "kvHGxWr-oVDC"
      },
      "source": [
        "def cifar10_model_udf(model):\n",
        "  \"\"\"\n",
        "  Wraps an ImageNet model into a Pandas UDF that makes predictions.\n",
        "  \n",
        "  You might consider the following customizations for your own use case:\n",
        "    - Tune DataLoader's batch_size and num_workers for better performance.\n",
        "    - Use GPU for acceleration.\n",
        "    - Change prediction types.\n",
        "  \"\"\"\n",
        "  model.eval()\n",
        "  def predict(content_series_iter : pd.Series) -> pd.DataFrame:\n",
        "    for content_series in content_series_iter:                                                    # Iterates overall all Images \n",
        "      dataset = Cifar10Dataset(list(content_series))                                           \n",
        "      loader = torch.utils.data.DataLoader(dataset, batch_size=64) \n",
        "      with torch.no_grad():\n",
        "        for image_batch in loader:\n",
        "          predictions = model(image_batch).numpy()                                                # Predictions for all 1000 classes of Mobilenetv2 Training Dataset\n",
        "          predicted_labels = [x[0] for x in decode_predictions(predictions, top=1)]                       \n",
        "          yield pd.DataFrame(predicted_labels)\n",
        "\n",
        "  return_type = \"class: string, desc: string, score:float\"\n",
        "  return pandas_udf(predict, return_type, PandasUDFType.SCALAR_ITER)"
      ],
      "execution_count": 15,
      "outputs": []
    },
    {
      "cell_type": "code",
      "source": [
        "model = models.mobilenet_v2(pretrained=True)\n",
        "cifar10 = cifar10_model_udf(model)\n",
        "\n",
        "predictions = df.withColumn(\"prediction\", cifar10(col(\"content\")))\n",
        "predictions = predictions.select(col(\"label\"), col(\"prediction.desc\").alias(\"mobilenet_v2 predictions\"))\n",
        "predictions.show(20, truncate=False)"
      ],
      "metadata": {
        "id": "fevQ4pyg0w7P",
        "outputId": "fe2771a3-68f5-4f59-c4ce-b1a5d4667f76",
        "colab": {
          "base_uri": "https://localhost:8080/"
        }
      },
      "execution_count": 24,
      "outputs": [
        {
          "output_type": "stream",
          "name": "stderr",
          "text": [
            "/usr/local/lib/python3.7/dist-packages/pyspark/sql/pandas/functions.py:392: UserWarning: In Python 3.6+ and Spark 3.0+, it is preferred to specify type hints for pandas UDF instead of specifying pandas UDF type which will be deprecated in the future releases. See SPARK-28264 for more details.\n",
            "  \"in the future releases. See SPARK-28264 for more details.\", UserWarning)\n"
          ]
        },
        {
          "output_type": "stream",
          "name": "stdout",
          "text": [
            "+----------+------------------------+\n",
            "|label     |mobilenet_v2 predictions|\n",
            "+----------+------------------------+\n",
            "|frog      |rock_python             |\n",
            "|bird      |pinwheel                |\n",
            "|truck     |bearskin                |\n",
            "|automobile|mousetrap               |\n",
            "|truck     |oil_filter              |\n",
            "|truck     |thresher                |\n",
            "|frog      |jaguar                  |\n",
            "|truck     |moving_van              |\n",
            "|airplane  |waffle_iron             |\n",
            "|automobile|panpipe                 |\n",
            "|frog      |sidewinder              |\n",
            "|truck     |airliner                |\n",
            "|automobile|maraca                  |\n",
            "|truck     |thresher                |\n",
            "|frog      |clog                    |\n",
            "|truck     |thresher                |\n",
            "|truck     |moving_van              |\n",
            "|frog      |jersey                  |\n",
            "|truck     |thresher                |\n",
            "|truck     |thresher                |\n",
            "+----------+------------------------+\n",
            "only showing top 20 rows\n",
            "\n"
          ]
        }
      ]
    },
    {
      "cell_type": "markdown",
      "source": [
        "## Question-2 "
      ],
      "metadata": {
        "id": "O2Sv-idxpLdy"
      }
    },
    {
      "cell_type": "code",
      "source": [
        "MODELS = {\n",
        "    \"mobilenet_v2\": models.mobilenet_v2(pretrained=True),\n",
        "    \"resnet50\": models.resnet50(pretrained=True),\n",
        "    \"vgg19\": models.vgg19(pretrained=True),\n",
        "    \"densenet121\": models.densenet121(pretrained=True),\n",
        "}"
      ],
      "metadata": {
        "id": "kU0Ml3tXnifE",
        "outputId": "e0c2c648-2261-453f-d645-9a24bc21e9b9",
        "colab": {
          "base_uri": "https://localhost:8080/",
          "height": 166,
          "referenced_widgets": [
            "c13c6101bc0d42149c27916e0980e4da",
            "0b237355e1c44cf0b7eb88b3c84f45d0",
            "29b87ddf7e464cf08af012cc41f3eb0d",
            "21651f5f5c874d8d8452dd17f652df09",
            "86c7f4cf236f4604b7e3816218c89b90",
            "e4b41a7af8dc4d4ebb4ecdfa20a711ad",
            "5bc36caf29804b88b081ec6459a81114",
            "d9e47322500b4dc091892e4ac32e7e9c",
            "161d249d0cb64936ba0755af6b06e93e",
            "79ef87ce24e741f187082ed4f7948a3f",
            "2a2aa18e98874b4eb3bbf859423013fe",
            "71d51a133f8e433b9eb6348e2bf11012",
            "ddd040b66df4410983827590a4d33650",
            "bfbbfd6632744583b3745b6c18621b74",
            "62900c25a66646739d3496aef9d578b1",
            "d2323cb39c8846dc89d21df13bc81386",
            "93323deb61654bddbf091bd8ed6ee351",
            "b163f746054d47eba0195c84cc5df299",
            "83882bf425d14fbc85ce5a4469900e07",
            "a346f1dc362d4ed8b4156e58a859b148",
            "aaf0f24500f945dc9095d432deb5004b",
            "d264de498fb24fb99fc75eb23ee5c178",
            "785bf7512ec941dcbd68396ef4c57a11",
            "e2da06f3b951453087569ead65277da4",
            "0e27258cddbb4e5d973964892964b103",
            "b62bdff6bcaf4fe4879897c1465fe5c5",
            "c71cf22301ed493d81a24cfe313bc8b9",
            "c6a3736a69074427bea90aca3f2339dc",
            "03f7dba16dbd4f8a9d955b0dc0ea8166",
            "b1c5dbe52181428bad87ea8caf7d29d9",
            "2138b83f6a9240f4a6447b5131ee9497",
            "11c19a81b628487095b4af786649bc68",
            "b85dedb6a5c144bdb96fc58572ff10f4"
          ]
        }
      },
      "execution_count": 17,
      "outputs": [
        {
          "output_type": "stream",
          "name": "stderr",
          "text": [
            "Downloading: \"https://download.pytorch.org/models/resnet50-0676ba61.pth\" to /root/.cache/torch/hub/checkpoints/resnet50-0676ba61.pth\n"
          ]
        },
        {
          "output_type": "display_data",
          "data": {
            "text/plain": [
              "  0%|          | 0.00/97.8M [00:00<?, ?B/s]"
            ],
            "application/vnd.jupyter.widget-view+json": {
              "version_major": 2,
              "version_minor": 0,
              "model_id": "c13c6101bc0d42149c27916e0980e4da"
            }
          },
          "metadata": {}
        },
        {
          "output_type": "stream",
          "name": "stderr",
          "text": [
            "Downloading: \"https://download.pytorch.org/models/vgg19-dcbb9e9d.pth\" to /root/.cache/torch/hub/checkpoints/vgg19-dcbb9e9d.pth\n"
          ]
        },
        {
          "output_type": "display_data",
          "data": {
            "text/plain": [
              "  0%|          | 0.00/548M [00:00<?, ?B/s]"
            ],
            "application/vnd.jupyter.widget-view+json": {
              "version_major": 2,
              "version_minor": 0,
              "model_id": "71d51a133f8e433b9eb6348e2bf11012"
            }
          },
          "metadata": {}
        },
        {
          "output_type": "stream",
          "name": "stderr",
          "text": [
            "Downloading: \"https://download.pytorch.org/models/densenet121-a639ec97.pth\" to /root/.cache/torch/hub/checkpoints/densenet121-a639ec97.pth\n"
          ]
        },
        {
          "output_type": "display_data",
          "data": {
            "text/plain": [
              "  0%|          | 0.00/30.8M [00:00<?, ?B/s]"
            ],
            "application/vnd.jupyter.widget-view+json": {
              "version_major": 2,
              "version_minor": 0,
              "model_id": "785bf7512ec941dcbd68396ef4c57a11"
            }
          },
          "metadata": {}
        }
      ]
    },
    {
      "cell_type": "code",
      "source": [
        "def print_top_results(model_name, n=2):\n",
        "  cifar10 = cifar10_model_udf(MODELS[model_name])\n",
        "\n",
        "  predictions = df.withColumn(\"prediction\", cifar10(col(\"content\")))\n",
        "  predictions = predictions.select(col(\"label\"), col(\"prediction.desc\").alias(f\"{model_name} predictions\"))\n",
        "  predictions = predictions.limit(2000).toPandas()\n",
        "\n",
        "  for label_name in label_names:\n",
        "    samples = predictions.loc[predictions[\"label\"] == label_name, f\"{model_name} predictions\"]\n",
        "    print(f\"####### Top {n} predictions for `{label_name}` #######\")\n",
        "    print(samples.value_counts().nlargest(n).to_frame(\"counts\"), end=\"\\n\\n\")"
      ],
      "metadata": {
        "id": "zvbjl47loD1W"
      },
      "execution_count": 18,
      "outputs": []
    },
    {
      "cell_type": "code",
      "source": [
        "print_top_results(\"mobilenet_v2\")"
      ],
      "metadata": {
        "id": "u423y3WWon9j",
        "outputId": "c6619f45-6fe7-4eee-8ccc-870a026e682d",
        "colab": {
          "base_uri": "https://localhost:8080/"
        }
      },
      "execution_count": 19,
      "outputs": [
        {
          "output_type": "stream",
          "name": "stderr",
          "text": [
            "/usr/local/lib/python3.7/dist-packages/pyspark/sql/pandas/functions.py:392: UserWarning: In Python 3.6+ and Spark 3.0+, it is preferred to specify type hints for pandas UDF instead of specifying pandas UDF type which will be deprecated in the future releases. See SPARK-28264 for more details.\n",
            "  \"in the future releases. See SPARK-28264 for more details.\", UserWarning)\n"
          ]
        },
        {
          "output_type": "stream",
          "name": "stdout",
          "text": [
            "####### Top 2 predictions for `airplane` #######\n",
            "             counts\n",
            "moving_van        7\n",
            "rock_beauty       4\n",
            "\n",
            "####### Top 2 predictions for `automobile` #######\n",
            "            counts\n",
            "moving_van     244\n",
            "thresher        47\n",
            "\n",
            "####### Top 2 predictions for `bird` #######\n",
            "                  counts\n",
            "fox_squirrel          10\n",
            "three-toed_sloth       8\n",
            "\n",
            "####### Top 2 predictions for `cat` #######\n",
            "              counts\n",
            "EntleBucher        9\n",
            "fox_squirrel       7\n",
            "\n",
            "####### Top 2 predictions for `deer` #######\n",
            "              counts\n",
            "fox_squirrel      13\n",
            "sorrel             5\n",
            "\n",
            "####### Top 2 predictions for `dog` #######\n",
            "                  counts\n",
            "Japanese_spaniel      33\n",
            "Dandie_Dinmont        11\n",
            "\n",
            "####### Top 2 predictions for `frog` #######\n",
            "              counts\n",
            "fox_squirrel      51\n",
            "sidewinder        35\n",
            "\n",
            "####### Top 2 predictions for `horse` #######\n",
            "          counts\n",
            "sorrel        88\n",
            "thresher      17\n",
            "\n",
            "####### Top 2 predictions for `ship` #######\n",
            "            counts\n",
            "speedboat        8\n",
            "moving_van       5\n",
            "\n",
            "####### Top 2 predictions for `truck` #######\n",
            "            counts\n",
            "moving_van     332\n",
            "thresher       133\n",
            "\n"
          ]
        }
      ]
    },
    {
      "cell_type": "code",
      "source": [
        "print_top_results(\"resnet50\")"
      ],
      "metadata": {
        "id": "e8kvfe4eooAf",
        "outputId": "c5249ef1-82d4-4fcf-ee6c-5bd3fb8e1dc3",
        "colab": {
          "base_uri": "https://localhost:8080/"
        }
      },
      "execution_count": 20,
      "outputs": [
        {
          "output_type": "stream",
          "name": "stderr",
          "text": [
            "/usr/local/lib/python3.7/dist-packages/pyspark/sql/pandas/functions.py:392: UserWarning: In Python 3.6+ and Spark 3.0+, it is preferred to specify type hints for pandas UDF instead of specifying pandas UDF type which will be deprecated in the future releases. See SPARK-28264 for more details.\n",
            "  \"in the future releases. See SPARK-28264 for more details.\", UserWarning)\n"
          ]
        },
        {
          "output_type": "stream",
          "name": "stdout",
          "text": [
            "####### Top 2 predictions for `airplane` #######\n",
            "               counts\n",
            "letter_opener       6\n",
            "moving_van          6\n",
            "\n",
            "####### Top 2 predictions for `automobile` #######\n",
            "            counts\n",
            "moving_van     257\n",
            "chain_saw      117\n",
            "\n",
            "####### Top 2 predictions for `bird` #######\n",
            "             counts\n",
            "limpkin           8\n",
            "rock_beauty       4\n",
            "\n",
            "####### Top 2 predictions for `cat` #######\n",
            "              counts\n",
            "fox_squirrel       9\n",
            "colobus            7\n",
            "\n",
            "####### Top 2 predictions for `deer` #######\n",
            "              counts\n",
            "fox_squirrel       9\n",
            "hartebeest         6\n",
            "\n",
            "####### Top 2 predictions for `dog` #######\n",
            "                  counts\n",
            "Japanese_spaniel      25\n",
            "Dandie_Dinmont         9\n",
            "\n",
            "####### Top 2 predictions for `frog` #######\n",
            "              counts\n",
            "tailed_frog       50\n",
            "fox_squirrel      44\n",
            "\n",
            "####### Top 2 predictions for `horse` #######\n",
            "          counts\n",
            "sorrel        72\n",
            "thresher      22\n",
            "\n",
            "####### Top 2 predictions for `ship` #######\n",
            "            counts\n",
            "moving_van      10\n",
            "speedboat        9\n",
            "\n",
            "####### Top 2 predictions for `truck` #######\n",
            "            counts\n",
            "moving_van     335\n",
            "thresher       131\n",
            "\n"
          ]
        }
      ]
    },
    {
      "cell_type": "code",
      "source": [
        "print_top_results(\"vgg19\")"
      ],
      "metadata": {
        "id": "4lG4FEWhooJj",
        "outputId": "0d8c28e1-db95-47fd-bac9-60ec2d1a6346",
        "colab": {
          "base_uri": "https://localhost:8080/"
        }
      },
      "execution_count": 21,
      "outputs": [
        {
          "output_type": "stream",
          "name": "stderr",
          "text": [
            "/usr/local/lib/python3.7/dist-packages/pyspark/sql/pandas/functions.py:392: UserWarning: In Python 3.6+ and Spark 3.0+, it is preferred to specify type hints for pandas UDF instead of specifying pandas UDF type which will be deprecated in the future releases. See SPARK-28264 for more details.\n",
            "  \"in the future releases. See SPARK-28264 for more details.\", UserWarning)\n"
          ]
        },
        {
          "output_type": "stream",
          "name": "stdout",
          "text": [
            "####### Top 2 predictions for `airplane` #######\n",
            "           counts\n",
            "chain_saw       9\n",
            "thresher        7\n",
            "\n",
            "####### Top 2 predictions for `automobile` #######\n",
            "            counts\n",
            "moving_van     197\n",
            "chain_saw       52\n",
            "\n",
            "####### Top 2 predictions for `bird` #######\n",
            "                  counts\n",
            "fox_squirrel          21\n",
            "three-toed_sloth       7\n",
            "\n",
            "####### Top 2 predictions for `cat` #######\n",
            "                  counts\n",
            "fox_squirrel          12\n",
            "Japanese_spaniel      11\n",
            "\n",
            "####### Top 2 predictions for `deer` #######\n",
            "              counts\n",
            "fox_squirrel      15\n",
            "patas              4\n",
            "\n",
            "####### Top 2 predictions for `dog` #######\n",
            "                  counts\n",
            "Japanese_spaniel      27\n",
            "Dandie_Dinmont        14\n",
            "\n",
            "####### Top 2 predictions for `frog` #######\n",
            "              counts\n",
            "fox_squirrel     108\n",
            "sidewinder        33\n",
            "\n",
            "####### Top 2 predictions for `horse` #######\n",
            "          counts\n",
            "sorrel        72\n",
            "thresher      23\n",
            "\n",
            "####### Top 2 predictions for `ship` #######\n",
            "            counts\n",
            "speedboat        6\n",
            "moving_van       5\n",
            "\n",
            "####### Top 2 predictions for `truck` #######\n",
            "            counts\n",
            "moving_van     314\n",
            "thresher       170\n",
            "\n"
          ]
        }
      ]
    },
    {
      "cell_type": "code",
      "source": [
        "print_top_results(\"densenet121\")"
      ],
      "metadata": {
        "id": "99fUex2looMI",
        "outputId": "bc56ce1d-a34d-413a-82db-2e2d8482187c",
        "colab": {
          "base_uri": "https://localhost:8080/"
        }
      },
      "execution_count": 22,
      "outputs": [
        {
          "output_type": "stream",
          "name": "stderr",
          "text": [
            "/usr/local/lib/python3.7/dist-packages/pyspark/sql/pandas/functions.py:392: UserWarning: In Python 3.6+ and Spark 3.0+, it is preferred to specify type hints for pandas UDF instead of specifying pandas UDF type which will be deprecated in the future releases. See SPARK-28264 for more details.\n",
            "  \"in the future releases. See SPARK-28264 for more details.\", UserWarning)\n"
          ]
        },
        {
          "output_type": "stream",
          "name": "stdout",
          "text": [
            "####### Top 2 predictions for `airplane` #######\n",
            "            counts\n",
            "airliner         5\n",
            "moving_van       5\n",
            "\n",
            "####### Top 2 predictions for `automobile` #######\n",
            "            counts\n",
            "moving_van     218\n",
            "thresher        35\n",
            "\n",
            "####### Top 2 predictions for `bird` #######\n",
            "              counts\n",
            "fox_squirrel       7\n",
            "limpkin            6\n",
            "\n",
            "####### Top 2 predictions for `cat` #######\n",
            "               counts\n",
            "fox_squirrel       11\n",
            "affenpinscher       6\n",
            "\n",
            "####### Top 2 predictions for `deer` #######\n",
            "              counts\n",
            "fox_squirrel       9\n",
            "sorrel             7\n",
            "\n",
            "####### Top 2 predictions for `dog` #######\n",
            "                  counts\n",
            "Japanese_spaniel      16\n",
            "Dandie_Dinmont        11\n",
            "\n",
            "####### Top 2 predictions for `frog` #######\n",
            "                  counts\n",
            "fox_squirrel          97\n",
            "three-toed_sloth      29\n",
            "\n",
            "####### Top 2 predictions for `horse` #######\n",
            "                 counts\n",
            "sorrel              115\n",
            "Indian_elephant      35\n",
            "\n",
            "####### Top 2 predictions for `ship` #######\n",
            "                counts\n",
            "speedboat            5\n",
            "Madagascar_cat       4\n",
            "\n",
            "####### Top 2 predictions for `truck` #######\n",
            "            counts\n",
            "moving_van     357\n",
            "thresher        76\n",
            "\n"
          ]
        }
      ]
    },
    {
      "cell_type": "code",
      "source": [
        ""
      ],
      "metadata": {
        "id": "YXDvPOP1ooOR"
      },
      "execution_count": 22,
      "outputs": []
    }
  ]
}