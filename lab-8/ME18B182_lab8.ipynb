{
  "nbformat": 4,
  "nbformat_minor": 0,
  "metadata": {
    "colab": {
      "name": "ME18B182-lab8.ipynb",
      "provenance": [],
      "collapsed_sections": [],
      "include_colab_link": true
    },
    "kernelspec": {
      "name": "python3",
      "display_name": "Python 3"
    },
    "widgets": {
      "application/vnd.jupyter.widget-state+json": {
        "c42733b2a99247c68bde721835c76568": {
          "model_module": "@jupyter-widgets/controls",
          "model_name": "HBoxModel",
          "model_module_version": "1.5.0",
          "state": {
            "_dom_classes": [],
            "_model_module": "@jupyter-widgets/controls",
            "_model_module_version": "1.5.0",
            "_model_name": "HBoxModel",
            "_view_count": null,
            "_view_module": "@jupyter-widgets/controls",
            "_view_module_version": "1.5.0",
            "_view_name": "HBoxView",
            "box_style": "",
            "children": [
              "IPY_MODEL_b9359abc433245c59e8b74061e1d4a99",
              "IPY_MODEL_7a7666c7b471460894f63bc9d86c4ffa",
              "IPY_MODEL_b7c8d20a246c4bc4952b7306ea4d1969"
            ],
            "layout": "IPY_MODEL_406d41a7b1024cbcbe4d7c2bf1cba1a6"
          }
        },
        "b9359abc433245c59e8b74061e1d4a99": {
          "model_module": "@jupyter-widgets/controls",
          "model_name": "HTMLModel",
          "model_module_version": "1.5.0",
          "state": {
            "_dom_classes": [],
            "_model_module": "@jupyter-widgets/controls",
            "_model_module_version": "1.5.0",
            "_model_name": "HTMLModel",
            "_view_count": null,
            "_view_module": "@jupyter-widgets/controls",
            "_view_module_version": "1.5.0",
            "_view_name": "HTMLView",
            "description": "",
            "description_tooltip": null,
            "layout": "IPY_MODEL_489ceac368d6486fa84f6dd610515c43",
            "placeholder": "​",
            "style": "IPY_MODEL_0b9e0b0e1cb34c1896bf63468a5fdb22",
            "value": "100%"
          }
        },
        "7a7666c7b471460894f63bc9d86c4ffa": {
          "model_module": "@jupyter-widgets/controls",
          "model_name": "FloatProgressModel",
          "model_module_version": "1.5.0",
          "state": {
            "_dom_classes": [],
            "_model_module": "@jupyter-widgets/controls",
            "_model_module_version": "1.5.0",
            "_model_name": "FloatProgressModel",
            "_view_count": null,
            "_view_module": "@jupyter-widgets/controls",
            "_view_module_version": "1.5.0",
            "_view_name": "ProgressView",
            "bar_style": "success",
            "description": "",
            "description_tooltip": null,
            "layout": "IPY_MODEL_1540d6f793594574ab7df888d5af25a1",
            "max": 50000,
            "min": 0,
            "orientation": "horizontal",
            "style": "IPY_MODEL_93ce29bde1fd46a48aca2f01efc2dc56",
            "value": 50000
          }
        },
        "b7c8d20a246c4bc4952b7306ea4d1969": {
          "model_module": "@jupyter-widgets/controls",
          "model_name": "HTMLModel",
          "model_module_version": "1.5.0",
          "state": {
            "_dom_classes": [],
            "_model_module": "@jupyter-widgets/controls",
            "_model_module_version": "1.5.0",
            "_model_name": "HTMLModel",
            "_view_count": null,
            "_view_module": "@jupyter-widgets/controls",
            "_view_module_version": "1.5.0",
            "_view_name": "HTMLView",
            "description": "",
            "description_tooltip": null,
            "layout": "IPY_MODEL_8a38d39679e44c95a5194d13a03b70ac",
            "placeholder": "​",
            "style": "IPY_MODEL_176a1d8ba9144666a213cb6f84209ab0",
            "value": " 50000/50000 [00:27&lt;00:00, 1885.62it/s]"
          }
        },
        "406d41a7b1024cbcbe4d7c2bf1cba1a6": {
          "model_module": "@jupyter-widgets/base",
          "model_name": "LayoutModel",
          "model_module_version": "1.2.0",
          "state": {
            "_model_module": "@jupyter-widgets/base",
            "_model_module_version": "1.2.0",
            "_model_name": "LayoutModel",
            "_view_count": null,
            "_view_module": "@jupyter-widgets/base",
            "_view_module_version": "1.2.0",
            "_view_name": "LayoutView",
            "align_content": null,
            "align_items": null,
            "align_self": null,
            "border": null,
            "bottom": null,
            "display": null,
            "flex": null,
            "flex_flow": null,
            "grid_area": null,
            "grid_auto_columns": null,
            "grid_auto_flow": null,
            "grid_auto_rows": null,
            "grid_column": null,
            "grid_gap": null,
            "grid_row": null,
            "grid_template_areas": null,
            "grid_template_columns": null,
            "grid_template_rows": null,
            "height": null,
            "justify_content": null,
            "justify_items": null,
            "left": null,
            "margin": null,
            "max_height": null,
            "max_width": null,
            "min_height": null,
            "min_width": null,
            "object_fit": null,
            "object_position": null,
            "order": null,
            "overflow": null,
            "overflow_x": null,
            "overflow_y": null,
            "padding": null,
            "right": null,
            "top": null,
            "visibility": null,
            "width": null
          }
        },
        "489ceac368d6486fa84f6dd610515c43": {
          "model_module": "@jupyter-widgets/base",
          "model_name": "LayoutModel",
          "model_module_version": "1.2.0",
          "state": {
            "_model_module": "@jupyter-widgets/base",
            "_model_module_version": "1.2.0",
            "_model_name": "LayoutModel",
            "_view_count": null,
            "_view_module": "@jupyter-widgets/base",
            "_view_module_version": "1.2.0",
            "_view_name": "LayoutView",
            "align_content": null,
            "align_items": null,
            "align_self": null,
            "border": null,
            "bottom": null,
            "display": null,
            "flex": null,
            "flex_flow": null,
            "grid_area": null,
            "grid_auto_columns": null,
            "grid_auto_flow": null,
            "grid_auto_rows": null,
            "grid_column": null,
            "grid_gap": null,
            "grid_row": null,
            "grid_template_areas": null,
            "grid_template_columns": null,
            "grid_template_rows": null,
            "height": null,
            "justify_content": null,
            "justify_items": null,
            "left": null,
            "margin": null,
            "max_height": null,
            "max_width": null,
            "min_height": null,
            "min_width": null,
            "object_fit": null,
            "object_position": null,
            "order": null,
            "overflow": null,
            "overflow_x": null,
            "overflow_y": null,
            "padding": null,
            "right": null,
            "top": null,
            "visibility": null,
            "width": null
          }
        },
        "0b9e0b0e1cb34c1896bf63468a5fdb22": {
          "model_module": "@jupyter-widgets/controls",
          "model_name": "DescriptionStyleModel",
          "model_module_version": "1.5.0",
          "state": {
            "_model_module": "@jupyter-widgets/controls",
            "_model_module_version": "1.5.0",
            "_model_name": "DescriptionStyleModel",
            "_view_count": null,
            "_view_module": "@jupyter-widgets/base",
            "_view_module_version": "1.2.0",
            "_view_name": "StyleView",
            "description_width": ""
          }
        },
        "1540d6f793594574ab7df888d5af25a1": {
          "model_module": "@jupyter-widgets/base",
          "model_name": "LayoutModel",
          "model_module_version": "1.2.0",
          "state": {
            "_model_module": "@jupyter-widgets/base",
            "_model_module_version": "1.2.0",
            "_model_name": "LayoutModel",
            "_view_count": null,
            "_view_module": "@jupyter-widgets/base",
            "_view_module_version": "1.2.0",
            "_view_name": "LayoutView",
            "align_content": null,
            "align_items": null,
            "align_self": null,
            "border": null,
            "bottom": null,
            "display": null,
            "flex": null,
            "flex_flow": null,
            "grid_area": null,
            "grid_auto_columns": null,
            "grid_auto_flow": null,
            "grid_auto_rows": null,
            "grid_column": null,
            "grid_gap": null,
            "grid_row": null,
            "grid_template_areas": null,
            "grid_template_columns": null,
            "grid_template_rows": null,
            "height": null,
            "justify_content": null,
            "justify_items": null,
            "left": null,
            "margin": null,
            "max_height": null,
            "max_width": null,
            "min_height": null,
            "min_width": null,
            "object_fit": null,
            "object_position": null,
            "order": null,
            "overflow": null,
            "overflow_x": null,
            "overflow_y": null,
            "padding": null,
            "right": null,
            "top": null,
            "visibility": null,
            "width": null
          }
        },
        "93ce29bde1fd46a48aca2f01efc2dc56": {
          "model_module": "@jupyter-widgets/controls",
          "model_name": "ProgressStyleModel",
          "model_module_version": "1.5.0",
          "state": {
            "_model_module": "@jupyter-widgets/controls",
            "_model_module_version": "1.5.0",
            "_model_name": "ProgressStyleModel",
            "_view_count": null,
            "_view_module": "@jupyter-widgets/base",
            "_view_module_version": "1.2.0",
            "_view_name": "StyleView",
            "bar_color": null,
            "description_width": ""
          }
        },
        "8a38d39679e44c95a5194d13a03b70ac": {
          "model_module": "@jupyter-widgets/base",
          "model_name": "LayoutModel",
          "model_module_version": "1.2.0",
          "state": {
            "_model_module": "@jupyter-widgets/base",
            "_model_module_version": "1.2.0",
            "_model_name": "LayoutModel",
            "_view_count": null,
            "_view_module": "@jupyter-widgets/base",
            "_view_module_version": "1.2.0",
            "_view_name": "LayoutView",
            "align_content": null,
            "align_items": null,
            "align_self": null,
            "border": null,
            "bottom": null,
            "display": null,
            "flex": null,
            "flex_flow": null,
            "grid_area": null,
            "grid_auto_columns": null,
            "grid_auto_flow": null,
            "grid_auto_rows": null,
            "grid_column": null,
            "grid_gap": null,
            "grid_row": null,
            "grid_template_areas": null,
            "grid_template_columns": null,
            "grid_template_rows": null,
            "height": null,
            "justify_content": null,
            "justify_items": null,
            "left": null,
            "margin": null,
            "max_height": null,
            "max_width": null,
            "min_height": null,
            "min_width": null,
            "object_fit": null,
            "object_position": null,
            "order": null,
            "overflow": null,
            "overflow_x": null,
            "overflow_y": null,
            "padding": null,
            "right": null,
            "top": null,
            "visibility": null,
            "width": null
          }
        },
        "176a1d8ba9144666a213cb6f84209ab0": {
          "model_module": "@jupyter-widgets/controls",
          "model_name": "DescriptionStyleModel",
          "model_module_version": "1.5.0",
          "state": {
            "_model_module": "@jupyter-widgets/controls",
            "_model_module_version": "1.5.0",
            "_model_name": "DescriptionStyleModel",
            "_view_count": null,
            "_view_module": "@jupyter-widgets/base",
            "_view_module_version": "1.2.0",
            "_view_name": "StyleView",
            "description_width": ""
          }
        }
      }
    }
  },
  "cells": [
    {
      "cell_type": "markdown",
      "metadata": {
        "id": "view-in-github",
        "colab_type": "text"
      },
      "source": [
        "<a href=\"https://colab.research.google.com/github/vasudevgupta7/cs4830-assignments/blob/main/lab-8/ME18B182_lab8.ipynb\" target=\"_parent\"><img src=\"https://colab.research.google.com/assets/colab-badge.svg\" alt=\"Open In Colab\"/></a>"
      ]
    },
    {
      "cell_type": "code",
      "metadata": {
        "id": "dz907NVoTcok"
      },
      "source": [
        "%%capture\n",
        "\n",
        "!sudo apt-get install openjdk-11-jdk\n",
        "!pip install pyspark\n",
        "!pip install -q findspark\n",
        "!pip install pyarrow"
      ],
      "execution_count": 1,
      "outputs": []
    },
    {
      "cell_type": "code",
      "metadata": {
        "id": "PyFhdHcmFlQg"
      },
      "source": [
        "import os\n",
        "os.environ[\"JAVA_HOME\"] = \"/usr/lib/jvm/java-11-openjdk-amd64\""
      ],
      "execution_count": 2,
      "outputs": []
    },
    {
      "cell_type": "code",
      "metadata": {
        "id": "OVQK8VGjl_jG"
      },
      "source": [
        "import io\n",
        "from pathlib import Path\n",
        "import pandas as pd\n",
        "\n",
        "import torch\n",
        "from torchvision import models, transforms\n",
        "from tensorflow.keras.applications.imagenet_utils import decode_predictions\n",
        "\n",
        "from PIL import Image\n",
        "\n",
        "import findspark\n",
        "from pyspark.sql import SparkSession\n",
        "from pyspark.sql.functions import col, pandas_udf, regexp_extract, PandasUDFType\n",
        "\n",
        "findspark.init()\n",
        "spark = SparkSession.builder.master(\"local[*]\").getOrCreate()"
      ],
      "execution_count": 3,
      "outputs": []
    },
    {
      "cell_type": "code",
      "source": [
        "%%capture\n",
        "\n",
        "!wget https://www.cs.toronto.edu/%7Ekriz/cifar-10-python.tar.gz\n",
        "!tar xvf cifar-10-python.tar.gz"
      ],
      "metadata": {
        "id": "XfYe7hJkpndG"
      },
      "execution_count": 4,
      "outputs": []
    },
    {
      "cell_type": "code",
      "source": [
        "!ls cifar-10-batches-py/"
      ],
      "metadata": {
        "colab": {
          "base_uri": "https://localhost:8080/"
        },
        "id": "Wb7-BzGt2cZL",
        "outputId": "6b9d6dde-c1d2-4524-821c-365768b3d00b"
      },
      "execution_count": 5,
      "outputs": [
        {
          "output_type": "stream",
          "name": "stdout",
          "text": [
            "batches.meta  data_batch_2  data_batch_4  readme.html\n",
            "data_batch_1  data_batch_3  data_batch_5  test_batch\n"
          ]
        }
      ]
    },
    {
      "cell_type": "code",
      "source": [
        "import pickle\n",
        "import numpy as np\n",
        "\n",
        "def prepare_cifar10_batch(dataset_batch_path):\n",
        "  with open(dataset_batch_path, mode='rb') as file:\n",
        "      batch = pickle.load(file, encoding='latin1')\n",
        "  images = batch['data'].reshape((len(batch['data']), 3, 32, 32)).transpose(0, 2, 3, 1)      \n",
        "  return images, np.array(batch['labels'])\n",
        "\n",
        "def load_cifar10_dataset(path):\n",
        "  images, labels = [], []\n",
        "  for batch_id in range(1, 6):\n",
        "    dataset_batch_path = f\"{path}/data_batch_{batch_id}\"\n",
        "    tmp_images, tmp_labels = prepare_cifar10_batch(dataset_batch_path)\n",
        "    images.append(tmp_images)\n",
        "    labels.append(tmp_labels)\n",
        "  return np.concatenate(images), np.concatenate(labels)\n",
        "\n",
        "label_names = ['airplane', 'automobile', 'bird', 'cat', 'deer', 'dog', 'frog', 'horse', 'ship', 'truck']"
      ],
      "metadata": {
        "id": "SdyLO3WjpnkD"
      },
      "execution_count": 6,
      "outputs": []
    },
    {
      "cell_type": "code",
      "source": [
        "from tqdm.notebook import tqdm\n",
        "\n",
        "def write_cifar10_in_imagenet_format(images, labels, path):\n",
        "  path = Path(path)\n",
        "  path.mkdir(exist_ok=True)\n",
        "\n",
        "  for label in label_names:\n",
        "    (path / label).mkdir(exist_ok=True)\n",
        "\n",
        "  for i in tqdm(range(images.shape[0])):\n",
        "    data = Image.fromarray(images[i], 'RGB')\n",
        "    data.save(path / label_names[labels[i]] / f'{i}.jpg')\n",
        "\n",
        "  return path"
      ],
      "metadata": {
        "id": "V6NDrJjxpnxF"
      },
      "execution_count": 7,
      "outputs": []
    },
    {
      "cell_type": "code",
      "source": [
        "path = \"./cifar-10-batches-py\"\n",
        "images, labels = load_cifar10_dataset(path)\n",
        "print(images.shape, labels.shape)\n",
        "\n",
        "data_dir = write_cifar10_in_imagenet_format(images, labels, \"cifar10_train_data\")\n",
        "data_dir"
      ],
      "metadata": {
        "colab": {
          "base_uri": "https://localhost:8080/",
          "height": 84,
          "referenced_widgets": [
            "c42733b2a99247c68bde721835c76568",
            "b9359abc433245c59e8b74061e1d4a99",
            "7a7666c7b471460894f63bc9d86c4ffa",
            "b7c8d20a246c4bc4952b7306ea4d1969",
            "406d41a7b1024cbcbe4d7c2bf1cba1a6",
            "489ceac368d6486fa84f6dd610515c43",
            "0b9e0b0e1cb34c1896bf63468a5fdb22",
            "1540d6f793594574ab7df888d5af25a1",
            "93ce29bde1fd46a48aca2f01efc2dc56",
            "8a38d39679e44c95a5194d13a03b70ac",
            "176a1d8ba9144666a213cb6f84209ab0"
          ]
        },
        "id": "x2cvQYARqAed",
        "outputId": "bece0e48-5b9a-4b23-fb4e-6a0228936500"
      },
      "execution_count": 8,
      "outputs": [
        {
          "output_type": "stream",
          "name": "stdout",
          "text": [
            "(50000, 32, 32, 3) (50000,)\n"
          ]
        },
        {
          "output_type": "display_data",
          "data": {
            "text/plain": [
              "  0%|          | 0/50000 [00:00<?, ?it/s]"
            ],
            "application/vnd.jupyter.widget-view+json": {
              "version_major": 2,
              "version_minor": 0,
              "model_id": "c42733b2a99247c68bde721835c76568"
            }
          },
          "metadata": {}
        },
        {
          "output_type": "execute_result",
          "data": {
            "text/plain": [
              "PosixPath('cifar10_train_data')"
            ]
          },
          "metadata": {},
          "execution_count": 8
        }
      ]
    },
    {
      "cell_type": "code",
      "source": [
        "# path = \"./cifar-10-batches-py/test_batch\"\n",
        "# images, labels = prepare_cifar10_batch(path)\n",
        "\n",
        "# write_cifar10_in_imagenet_format(images, labels, \"cifar10_test_data\")"
      ],
      "metadata": {
        "id": "-PqegQE9qAkA"
      },
      "execution_count": 64,
      "outputs": []
    },
    {
      "cell_type": "markdown",
      "source": [
        "Recursively Read all the Images from the Parent directory and create a DataFrame"
      ],
      "metadata": {
        "id": "twAETGtMcFAQ"
      }
    },
    {
      "cell_type": "code",
      "metadata": {
        "id": "8-Jh-li0V3al",
        "colab": {
          "base_uri": "https://localhost:8080/"
        },
        "outputId": "cfcc05cc-4914-4cba-ca53-211363a350e0"
      },
      "source": [
        "images = spark.read.format(\"binaryFile\").option(\"recursiveFileLookup\", \"true\").option(\"pathGlobFilter\", \"*.jpg\").load(str(data_dir))\n",
        "print(type(images))"
      ],
      "execution_count": 9,
      "outputs": [
        {
          "output_type": "stream",
          "name": "stdout",
          "text": [
            "<class 'pyspark.sql.dataframe.DataFrame'>\n"
          ]
        }
      ]
    },
    {
      "cell_type": "code",
      "source": [
        "images.show(5)"
      ],
      "metadata": {
        "colab": {
          "base_uri": "https://localhost:8080/"
        },
        "id": "fIpI0dx4BHdB",
        "outputId": "377f1280-4692-4ed6-80ca-ce5bd278841e"
      },
      "execution_count": 10,
      "outputs": [
        {
          "output_type": "stream",
          "name": "stdout",
          "text": [
            "+--------------------+--------------------+------+--------------------+\n",
            "|                path|    modificationTime|length|             content|\n",
            "+--------------------+--------------------+------+--------------------+\n",
            "|file:/content/cif...|2022-04-16 05:32:...|  1124|[FF D8 FF E0 00 1...|\n",
            "|file:/content/cif...|2022-04-16 05:32:...|  1121|[FF D8 FF E0 00 1...|\n",
            "|file:/content/cif...|2022-04-16 05:32:...|  1118|[FF D8 FF E0 00 1...|\n",
            "|file:/content/cif...|2022-04-16 05:32:...|  1111|[FF D8 FF E0 00 1...|\n",
            "|file:/content/cif...|2022-04-16 05:32:...|  1104|[FF D8 FF E0 00 1...|\n",
            "+--------------------+--------------------+------+--------------------+\n",
            "only showing top 5 rows\n",
            "\n"
          ]
        }
      ]
    },
    {
      "cell_type": "code",
      "metadata": {
        "id": "ekKZzpVPha5M",
        "colab": {
          "base_uri": "https://localhost:8080/"
        },
        "outputId": "2c087c10-406a-4b61-9e28-544c23997ea3"
      },
      "source": [
        "regexp = f\"{str(data_dir)}/([^/]+)\"\n",
        "\n",
        "def extract_label(path_col):\n",
        "  \"\"\"Extract label from file path using built-in SQL functions.\"\"\"\n",
        "  return regexp_extract(path_col, regexp, 1)\n",
        "\n",
        "def extract_size(content):\n",
        "  \"\"\"Extract image size from its raw content.\"\"\"\n",
        "  image = Image.open(io.BytesIO(content))\n",
        "  return image.size\n",
        "\n",
        "@pandas_udf(\"width: int, height: int\")\n",
        "def extract_size_udf(content_series):\n",
        "  sizes = content_series.apply(extract_size)\n",
        "  return pd.DataFrame(list(sizes))\n",
        "\n",
        "df = images.select(\n",
        "  col(\"path\"),\n",
        "  col(\"modificationTime\"),\n",
        "  extract_label(col(\"path\")).alias(\"label\"),\n",
        "  extract_size_udf(col(\"content\")).alias(\"size\"),\n",
        "  col(\"content\"))\n",
        "\n",
        "df.show(5)"
      ],
      "execution_count": 12,
      "outputs": [
        {
          "output_type": "stream",
          "name": "stdout",
          "text": [
            "+--------------------+--------------------+----------+--------+--------------------+\n",
            "|                path|    modificationTime|     label|    size|             content|\n",
            "+--------------------+--------------------+----------+--------+--------------------+\n",
            "|file:/content/cif...|2022-04-16 05:32:...|      frog|{32, 32}|[FF D8 FF E0 00 1...|\n",
            "|file:/content/cif...|2022-04-16 05:32:...|      bird|{32, 32}|[FF D8 FF E0 00 1...|\n",
            "|file:/content/cif...|2022-04-16 05:32:...|     truck|{32, 32}|[FF D8 FF E0 00 1...|\n",
            "|file:/content/cif...|2022-04-16 05:32:...|automobile|{32, 32}|[FF D8 FF E0 00 1...|\n",
            "|file:/content/cif...|2022-04-16 05:32:...|     truck|{32, 32}|[FF D8 FF E0 00 1...|\n",
            "+--------------------+--------------------+----------+--------+--------------------+\n",
            "only showing top 5 rows\n",
            "\n"
          ]
        }
      ]
    },
    {
      "cell_type": "code",
      "source": [
        "ima = images.select('content').rdd.map(lambda x: x.content).collect()\n",
        "imgg = Image.open(io.BytesIO(ima[0]))\n",
        "imgg"
      ],
      "metadata": {
        "colab": {
          "base_uri": "https://localhost:8080/",
          "height": 49
        },
        "id": "4xnBLBH6vf_h",
        "outputId": "18b19ba2-8e20-45ea-c98f-e04850b61dd3"
      },
      "execution_count": 13,
      "outputs": [
        {
          "output_type": "execute_result",
          "data": {
            "text/plain": [
              "<PIL.JpegImagePlugin.JpegImageFile image mode=RGB size=32x32 at 0x7F7D6C15FE10>"
            ],
            "image/png": "[encoded data removed]"
          },
          "metadata": {},
          "execution_count": 13
        }
      ]
    },
    {
      "cell_type": "code",
      "metadata": {
        "id": "jrDuJgc-oO8z"
      },
      "source": [
        "class Cifar10Dataset(torch.utils.data.Dataset):\n",
        "  \"\"\"\n",
        "  Converts image contents into a PyTorch Dataset with standard ImageNet preprocessing.\n",
        "  \"\"\"\n",
        "  def __init__(self, contents):\n",
        "    self.contents = contents\n",
        "\n",
        "  def __len__(self):\n",
        "    return len(self.contents)\n",
        "\n",
        "  def __getitem__(self, index):\n",
        "    return self._preprocess(self.contents[index])\n",
        "\n",
        "  def _preprocess(self, content):\n",
        "    \"\"\"\n",
        "    Preprocesses the input image content using standard ImageNet normalization.\n",
        "    \n",
        "    See https://pytorch.org/docs/stable/torchvision/models.html.\n",
        "    \"\"\"\n",
        "    image = Image.open(io.BytesIO(content))\n",
        "    transform = transforms.Compose([\n",
        "      transforms.Resize(256),                         ### Smaller lenght is convertd to 256 \n",
        "      transforms.CenterCrop(224),\n",
        "      transforms.ToTensor(),\n",
        "      transforms.Normalize(mean=[0.485, 0.456, 0.406], std=[0.229, 0.224, 0.225]),\n",
        "    ])\n",
        "    return transform(image)"
      ],
      "execution_count": 14,
      "outputs": []
    },
    {
      "cell_type": "code",
      "metadata": {
        "id": "kvHGxWr-oVDC"
      },
      "source": [
        "def cifar10_model_udf(model):\n",
        "  \"\"\"\n",
        "  Wraps an ImageNet model into a Pandas UDF that makes predictions.\n",
        "  \n",
        "  You might consider the following customizations for your own use case:\n",
        "    - Tune DataLoader's batch_size and num_workers for better performance.\n",
        "    - Use GPU for acceleration.\n",
        "    - Change prediction types.\n",
        "  \"\"\"\n",
        "  model.eval()\n",
        "  def predict(content_series_iter : pd.Series) -> pd.DataFrame:\n",
        "    for content_series in content_series_iter:                                                    # Iterates overall all Images \n",
        "      dataset = Cifar10Dataset(list(content_series))                                           \n",
        "      loader = torch.utils.data.DataLoader(dataset, batch_size=64) \n",
        "      with torch.no_grad():\n",
        "        for image_batch in loader:\n",
        "          predictions = model(image_batch).numpy()                                                # Predictions for all 1000 classes of Mobilenetv2 Training Dataset\n",
        "          predicted_labels = [x[0] for x in decode_predictions(predictions, top=1)]                       \n",
        "          yield pd.DataFrame(predicted_labels)\n",
        "\n",
        "  return_type = \"class: string, desc: string, score:float\"\n",
        "  return pandas_udf(predict, return_type, PandasUDFType.SCALAR_ITER)"
      ],
      "execution_count": 15,
      "outputs": []
    },
    {
      "cell_type": "code",
      "source": [
        "model = models.mobilenet_v2(pretrained=True)\n",
        "cifar10 = cifar10_model_udf(model)\n",
        "\n",
        "predictions = df.withColumn(\"prediction\", cifar10(col(\"content\")))\n",
        "display(predictions.select(col(\"path\"), col(\"prediction\")).limit(5))\n",
        "predictions.select(col(\"label\"),col(\"prediction\")).show(50, truncate=False)"
      ],
      "metadata": {
        "colab": {
          "base_uri": "https://localhost:8080/",
          "height": 1000
        },
        "id": "fevQ4pyg0w7P",
        "outputId": "ab71c36b-9080-4d11-82b8-77828db2654c"
      },
      "execution_count": 18,
      "outputs": [
        {
          "output_type": "stream",
          "name": "stderr",
          "text": [
            "/usr/local/lib/python3.7/dist-packages/pyspark/sql/pandas/functions.py:392: UserWarning: In Python 3.6+ and Spark 3.0+, it is preferred to specify type hints for pandas UDF instead of specifying pandas UDF type which will be deprecated in the future releases. See SPARK-28264 for more details.\n",
            "  \"in the future releases. See SPARK-28264 for more details.\", UserWarning)\n"
          ]
        },
        {
          "output_type": "display_data",
          "data": {
            "text/plain": [
              "DataFrame[path: string, prediction: struct<class:string,desc:string,score:float>]"
            ]
          },
          "metadata": {}
        },
        {
          "output_type": "stream",
          "name": "stdout",
          "text": [
            "+----------+---------------------------------------+\n",
            "|label     |prediction                             |\n",
            "+----------+---------------------------------------+\n",
            "|frog      |{n01744401, rock_python, 7.9679623}    |\n",
            "|bird      |{n03944341, pinwheel, 10.355642}       |\n",
            "|truck     |{n02817516, bearskin, 10.859891}       |\n",
            "|automobile|{n03794056, mousetrap, 12.167225}      |\n",
            "|truck     |{n03843555, oil_filter, 9.178589}      |\n",
            "|truck     |{n04428191, thresher, 17.19516}        |\n",
            "|frog      |{n02128925, jaguar, 11.967956}         |\n",
            "|truck     |{n03796401, moving_van, 11.574023}     |\n",
            "|airplane  |{n04542943, waffle_iron, 11.026524}    |\n",
            "|automobile|{n03884397, panpipe, 11.6462755}       |\n",
            "|frog      |{n01756291, sidewinder, 11.004475}     |\n",
            "|truck     |{n02690373, airliner, 9.261075}        |\n",
            "|automobile|{n03720891, maraca, 7.206638}          |\n",
            "|truck     |{n04428191, thresher, 12.286238}       |\n",
            "|frog      |{n03047690, clog, 9.803439}            |\n",
            "|truck     |{n04428191, thresher, 13.313608}       |\n",
            "|truck     |{n03796401, moving_van, 10.6111765}    |\n",
            "|frog      |{n03595614, jersey, 8.623622}          |\n",
            "|truck     |{n04428191, thresher, 13.043023}       |\n",
            "|truck     |{n04428191, thresher, 13.7224045}      |\n",
            "|cat       |{n03347037, fire_screen, 10.372003}    |\n",
            "|truck     |{n03796401, moving_van, 12.940854}     |\n",
            "|frog      |{n01756291, sidewinder, 9.27737}       |\n",
            "|truck     |{n04443257, tobacco_shop, 7.492293}    |\n",
            "|bird      |{n02492660, howler_monkey, 8.389995}   |\n",
            "|frog      |{n07760859, custard_apple, 6.9756556}  |\n",
            "|frog      |{n03838899, oboe, 10.030443}           |\n",
            "|automobile|{n04428191, thresher, 11.466286}       |\n",
            "|deer      |{n01773549, barn_spider, 11.132671}    |\n",
            "|truck     |{n03000684, chain_saw, 10.690723}      |\n",
            "|truck     |{n03796401, moving_van, 8.472254}      |\n",
            "|truck     |{n04428191, thresher, 11.305825}       |\n",
            "|truck     |{n03796401, moving_van, 15.45972}      |\n",
            "|frog      |{n02457408, three-toed_sloth, 8.887815}|\n",
            "|frog      |{n03047690, clog, 9.57558}             |\n",
            "|automobile|{n03796401, moving_van, 13.080662}     |\n",
            "|automobile|{n03796401, moving_van, 12.673038}     |\n",
            "|truck     |{n04443257, tobacco_shop, 8.2792225}   |\n",
            "|frog      |{n07695742, pretzel, 10.2572155}       |\n",
            "|frog      |{n01756291, sidewinder, 9.12196}       |\n",
            "|automobile|{n04443257, tobacco_shop, 8.509384}    |\n",
            "|automobile|{n03796401, moving_van, 16.99414}      |\n",
            "|truck     |{n03796401, moving_van, 6.719248}      |\n",
            "|truck     |{n03062245, cocktail_shaker, 7.34604}  |\n",
            "|automobile|{n03843555, oil_filter, 9.001449}      |\n",
            "|truck     |{n04428191, thresher, 14.001273}       |\n",
            "|truck     |{n04428191, thresher, 10.822567}       |\n",
            "|truck     |{n04428191, thresher, 12.408042}       |\n",
            "|bird      |{n03706229, magnetic_compass, 9.432032}|\n",
            "|automobile|{n04428191, thresher, 11.656835}       |\n",
            "+----------+---------------------------------------+\n",
            "only showing top 50 rows\n",
            "\n"
          ]
        }
      ]
    },
    {
      "cell_type": "code",
      "source": [
        ""
      ],
      "metadata": {
        "id": "eTL3yADW8mWN"
      },
      "execution_count": null,
      "outputs": []
    }
  ]
}