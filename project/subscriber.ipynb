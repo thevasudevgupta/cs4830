{
  "nbformat": 4,
  "nbformat_minor": 0,
  "metadata": {
    "colab": {
      "name": "subscriber.ipynb",
      "provenance": [],
      "collapsed_sections": []
    },
    "kernelspec": {
      "name": "python3",
      "display_name": "Python 3"
    },
    "language_info": {
      "name": "python"
    }
  },
  "cells": [
    {
      "cell_type": "code",
      "execution_count": null,
      "metadata": {
        "id": "JJK8aZUj2x9Q"
      },
      "outputs": [],
      "source": [
        "import pandas as pd\n",
        "from tabulate import tabulate\n",
        "from sklearn.metrics import accuracy_score, f1_score\n",
        "\n",
        "from pyspark import SparkContext\n",
        "from pyspark.sql import SparkSession\n",
        "import pyspark.sql.functions as f\n",
        "from pyspark.ml import PipelineModel\n",
        "\n",
        "import os\n",
        "os.environ[\n",
        "    \"PYSPARK_SUBMIT_ARGS\"\n",
        "] = \"--packages org.apache.spark:spark-sql-kafka-0-10_2.12:3.1.2 pyspark-shell\""
      ]
    },
    {
      "cell_type": "code",
      "source": [
        "!pip3 install -q tabulate"
      ],
      "metadata": {
        "id": "eX7VT1-m23ek"
      },
      "execution_count": null,
      "outputs": []
    },
    {
      "cell_type": "code",
      "source": [
        "spark = SparkSession.builder.appName(\"CS4830_project\").getOrCreate()\n",
        "spark.sparkContext.setLogLevel(\"WARN\")"
      ],
      "metadata": {
        "id": "hv4RsBf823gu"
      },
      "execution_count": null,
      "outputs": []
    },
    {
      "cell_type": "code",
      "source": [
        "# TODO: change following for demo\n",
        "BROKER = \"10.128.0.34:9092\"\n",
        "TOPIC = \"CS4830-project\""
      ],
      "metadata": {
        "id": "zWwL6Lkq23ix"
      },
      "execution_count": null,
      "outputs": []
    },
    {
      "cell_type": "code",
      "source": [
        "MODEL_PATH = \"gs://big-data-cs4830/project/final_model\""
      ],
      "metadata": {
        "id": "z19mmAhR23lO"
      },
      "execution_count": null,
      "outputs": []
    },
    {
      "cell_type": "code",
      "source": [
        "df = (\n",
        "    spark.readStream.format(\"kafka\")\n",
        "    .option(\"kafka.bootstrap.servers\", BROKER)\n",
        "    .option(\"subscribe\", TOPIC)\n",
        "    .load()\n",
        ")\n",
        "\n",
        "split_cols = f.split(df.value,',')\n",
        "df = df.withColumn('Feet From Curb', split_cols.getItem(1))\n",
        "df = df.withColumn('Violation In Front Of Or Opposite', split_cols.getItem(2))\n",
        "df = df.withColumn('Issuing Agency', split_cols.getItem(3))\n",
        "df = df.withColumn('Violation County', split_cols.getItem(4))\n",
        "df = df.withColumn('Plate Type', split_cols.getItem(5))\n",
        "df = df.withColumn('Violation Code', split_cols.getItem(6))\n",
        "df = df.withColumn('Registration State', split_cols.getItem(7))\n",
        "df = df.withColumn('Issuer Squad', split_cols.getItem(8))\n",
        "df = df.withColumn('Violation Precinct', split_cols.getItem(9))"
      ],
      "metadata": {
        "id": "vk4sjtBN23ne"
      },
      "execution_count": null,
      "outputs": []
    },
    {
      "cell_type": "code",
      "source": [
        "pipeline = PipelineModel.load(MODEL_PATH)"
      ],
      "metadata": {
        "id": "TB2fVpfA23p-"
      },
      "execution_count": null,
      "outputs": []
    },
    {
      "cell_type": "code",
      "source": [
        "df =  pipeline.transform(df).select(\"Violation Precinct\", \"prediction\")"
      ],
      "metadata": {
        "id": "0jCywCem23sR"
      },
      "execution_count": null,
      "outputs": []
    },
    {
      "cell_type": "code",
      "source": [
        "def batch_function(df, batch_id):\n",
        "    if df.count() > 0:\n",
        "        print(\"#\"*88)\n",
        "        print(\"Batch:\", batch_id, \"| COUNT:\", df.count())\n",
        "\n",
        "        dftemp = df.toPandas()\n",
        "        acc = accuracy_score(dftemp['prediction'], dftemp['Violation Precinct'])\n",
        "        f1 = f1_score(dftemp['prediction'], dftemp['Violation Precinct'], average='weighted')\n",
        "        output = pd.DataFrame([['Accuracy', acc],['F1-Score', f1]], columns=['Metric', 'Value'])\n",
        "\n",
        "        print(tabulate(dftemp, headers='keys', tablefmt='psql', showindex=False))\n",
        "        print(tabulate(output, headers = 'keys', tablefmt='psql', showindex=False))\n",
        "        \n",
        "        print(\"#\"*88)"
      ],
      "metadata": {
        "id": "9XUtDzQ323uR"
      },
      "execution_count": null,
      "outputs": []
    },
    {
      "cell_type": "code",
      "source": [
        "query = df.writeStream.foreachBatch(batch_function).start()   \n",
        "query.awaitTermination()"
      ],
      "metadata": {
        "id": "eqRsmott3Blb"
      },
      "execution_count": null,
      "outputs": []
    },
    {
      "cell_type": "code",
      "source": [
        ""
      ],
      "metadata": {
        "id": "0mdcPF013BoU"
      },
      "execution_count": null,
      "outputs": []
    }
  ]
}